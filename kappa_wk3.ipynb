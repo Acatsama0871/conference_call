{
 "cells": [
  {
   "cell_type": "markdown",
   "metadata": {},
   "source": [
    "### Michael wk3 -> Nina wk2"
   ]
  },
  {
   "cell_type": "code",
   "execution_count": 1,
   "metadata": {},
   "outputs": [],
   "source": [
    "import os\n",
    "import seaborn as sns\n",
    "import matplotlib.pyplot as plt\n",
    "import pandas as pd\n",
    "import numpy as np\n",
    "from rich import print\n",
    "from sklearn.metrics import cohen_kappa_score\n",
    "from sklearn.metrics import confusion_matrix\n",
    "\n",
    "cwd = os.path.join(os.getcwd(), 'data')\n",
    "result_path = os.path.join(os.getcwd(), 'results')"
   ]
  },
  {
   "cell_type": "markdown",
   "metadata": {},
   "source": [
    "### Load data:"
   ]
  },
  {
   "cell_type": "code",
   "execution_count": 6,
   "metadata": {},
   "outputs": [],
   "source": [
    "# load dataframe\n",
    "df_michael = pd.read_excel(os.path.join(cwd, 'week3', 'labeled', 'michael_wk3.xls'))\n",
    "df_nina = pd.read_excel(os.path.join(cwd, 'week2', 'labeled', 'nina_wk2.xls'))"
   ]
  },
  {
   "cell_type": "code",
   "execution_count": 7,
   "metadata": {},
   "outputs": [
    {
     "data": {
      "text/html": [
       "<div>\n",
       "<style scoped>\n",
       "    .dataframe tbody tr th:only-of-type {\n",
       "        vertical-align: middle;\n",
       "    }\n",
       "\n",
       "    .dataframe tbody tr th {\n",
       "        vertical-align: top;\n",
       "    }\n",
       "\n",
       "    .dataframe thead th {\n",
       "        text-align: right;\n",
       "    }\n",
       "</style>\n",
       "<table border=\"1\" class=\"dataframe\">\n",
       "  <thead>\n",
       "    <tr style=\"text-align: right;\">\n",
       "      <th></th>\n",
       "      <th>encoded_unique_ticker_ts</th>\n",
       "      <th>rid</th>\n",
       "      <th>text</th>\n",
       "      <th>question</th>\n",
       "      <th>response</th>\n",
       "      <th>label</th>\n",
       "      <th>note</th>\n",
       "    </tr>\n",
       "  </thead>\n",
       "  <tbody>\n",
       "    <tr>\n",
       "      <th>0</th>\n",
       "      <td>55732</td>\n",
       "      <td>462688</td>\n",
       "      <td>Do you think it's going to be fairly rapid mov...</td>\n",
       "      <td>Very much understood, that's very helpful. Whe...</td>\n",
       "      <td>Steven, it is Armando. I think the first thing...</td>\n",
       "      <td>0</td>\n",
       "      <td>Little skepticism as the questions is seemingl...</td>\n",
       "    </tr>\n",
       "    <tr>\n",
       "      <th>1</th>\n",
       "      <td>72687</td>\n",
       "      <td>263798</td>\n",
       "      <td>So fundamentally, longer-term, this mid single...</td>\n",
       "      <td>So fundamentally, longer-term, this mid single...</td>\n",
       "      <td>It is. We're not giving up on that.</td>\n",
       "      <td>1</td>\n",
       "      <td>Implications that the growth may not be suista...</td>\n",
       "    </tr>\n",
       "    <tr>\n",
       "      <th>2</th>\n",
       "      <td>49838</td>\n",
       "      <td>585266</td>\n",
       "      <td>I appreciate your thoughts on the recent perfo...</td>\n",
       "      <td>Hi. Good afternoon. Most of my questions have ...</td>\n",
       "      <td>Hi. It?? Craig. I??l take that. First of all, ...</td>\n",
       "      <td>0</td>\n",
       "      <td>Question seems genuine as the individual is ju...</td>\n",
       "    </tr>\n",
       "    <tr>\n",
       "      <th>3</th>\n",
       "      <td>17604</td>\n",
       "      <td>268429</td>\n",
       "      <td>But once you get to 2017, once you've delivere...</td>\n",
       "      <td>John, you've done a -- you've obviously got a ...</td>\n",
       "      <td>Well, I guess I?? say volume has always been a...</td>\n",
       "      <td>0</td>\n",
       "      <td>Not as much skepticism as curiosity of how fir...</td>\n",
       "    </tr>\n",
       "    <tr>\n",
       "      <th>4</th>\n",
       "      <td>15426</td>\n",
       "      <td>1021577</td>\n",
       "      <td>And then in terms of the capital spending leve...</td>\n",
       "      <td>Yeah that makes sense. And then in terms of th...</td>\n",
       "      <td>The capital spending in Horizon, you are talki...</td>\n",
       "      <td>0</td>\n",
       "      <td>Seems to be a genuine question.</td>\n",
       "    </tr>\n",
       "    <tr>\n",
       "      <th>...</th>\n",
       "      <td>...</td>\n",
       "      <td>...</td>\n",
       "      <td>...</td>\n",
       "      <td>...</td>\n",
       "      <td>...</td>\n",
       "      <td>...</td>\n",
       "      <td>...</td>\n",
       "    </tr>\n",
       "    <tr>\n",
       "      <th>195</th>\n",
       "      <td>15452</td>\n",
       "      <td>101445</td>\n",
       "      <td>With the free cash flow being quite strong and...</td>\n",
       "      <td>Yes, good morning, guys. Just a question on th...</td>\n",
       "      <td>Yes, it?? a good question. I would offer a cou...</td>\n",
       "      <td>0</td>\n",
       "      <td>Question driven more by curiosity than skepticism</td>\n",
       "    </tr>\n",
       "    <tr>\n",
       "      <th>196</th>\n",
       "      <td>35580</td>\n",
       "      <td>874111</td>\n",
       "      <td>I guess last quarter you had said that you fel...</td>\n",
       "      <td>Got it. Okay, great. Last quick one here. Just...</td>\n",
       "      <td>I don't think anything has changed from what I...</td>\n",
       "      <td>1</td>\n",
       "      <td>May be some skepticism on revenue expectations</td>\n",
       "    </tr>\n",
       "    <tr>\n",
       "      <th>197</th>\n",
       "      <td>52633</td>\n",
       "      <td>307473</td>\n",
       "      <td>And how confident are you that they???re not g...</td>\n",
       "      <td>If you look at most of your states that they g...</td>\n",
       "      <td>So Peter we always have higher cost from the n...</td>\n",
       "      <td>1</td>\n",
       "      <td>Predicting higher costs can be reflective of u...</td>\n",
       "    </tr>\n",
       "    <tr>\n",
       "      <th>198</th>\n",
       "      <td>88151</td>\n",
       "      <td>1291498</td>\n",
       "      <td>You guys have indicated that you were going to...</td>\n",
       "      <td>And so last question is just kind of a houseke...</td>\n",
       "      <td>Currently, that in-house is still undergoing, ...</td>\n",
       "      <td>0</td>\n",
       "      <td>Question driven more by curiosity than skepticism</td>\n",
       "    </tr>\n",
       "    <tr>\n",
       "      <th>199</th>\n",
       "      <td>50658</td>\n",
       "      <td>1004086</td>\n",
       "      <td>It seems that -- I've heard comments from MGA ...</td>\n",
       "      <td>Just to go back again to the issue of the reta...</td>\n",
       "      <td>Linda, I??l take your last question and I??l l...</td>\n",
       "      <td>0</td>\n",
       "      <td>Question driven more by curiosity than skepticism</td>\n",
       "    </tr>\n",
       "  </tbody>\n",
       "</table>\n",
       "<p>200 rows × 7 columns</p>\n",
       "</div>"
      ],
      "text/plain": [
       "     encoded_unique_ticker_ts      rid  \\\n",
       "0                       55732   462688   \n",
       "1                       72687   263798   \n",
       "2                       49838   585266   \n",
       "3                       17604   268429   \n",
       "4                       15426  1021577   \n",
       "..                        ...      ...   \n",
       "195                     15452   101445   \n",
       "196                     35580   874111   \n",
       "197                     52633   307473   \n",
       "198                     88151  1291498   \n",
       "199                     50658  1004086   \n",
       "\n",
       "                                                  text  \\\n",
       "0    Do you think it's going to be fairly rapid mov...   \n",
       "1    So fundamentally, longer-term, this mid single...   \n",
       "2    I appreciate your thoughts on the recent perfo...   \n",
       "3    But once you get to 2017, once you've delivere...   \n",
       "4    And then in terms of the capital spending leve...   \n",
       "..                                                 ...   \n",
       "195  With the free cash flow being quite strong and...   \n",
       "196  I guess last quarter you had said that you fel...   \n",
       "197  And how confident are you that they???re not g...   \n",
       "198  You guys have indicated that you were going to...   \n",
       "199  It seems that -- I've heard comments from MGA ...   \n",
       "\n",
       "                                              question  \\\n",
       "0    Very much understood, that's very helpful. Whe...   \n",
       "1    So fundamentally, longer-term, this mid single...   \n",
       "2    Hi. Good afternoon. Most of my questions have ...   \n",
       "3    John, you've done a -- you've obviously got a ...   \n",
       "4    Yeah that makes sense. And then in terms of th...   \n",
       "..                                                 ...   \n",
       "195  Yes, good morning, guys. Just a question on th...   \n",
       "196  Got it. Okay, great. Last quick one here. Just...   \n",
       "197  If you look at most of your states that they g...   \n",
       "198  And so last question is just kind of a houseke...   \n",
       "199  Just to go back again to the issue of the reta...   \n",
       "\n",
       "                                              response  label  \\\n",
       "0    Steven, it is Armando. I think the first thing...      0   \n",
       "1                  It is. We're not giving up on that.      1   \n",
       "2    Hi. It?? Craig. I??l take that. First of all, ...      0   \n",
       "3    Well, I guess I?? say volume has always been a...      0   \n",
       "4    The capital spending in Horizon, you are talki...      0   \n",
       "..                                                 ...    ...   \n",
       "195  Yes, it?? a good question. I would offer a cou...      0   \n",
       "196  I don't think anything has changed from what I...      1   \n",
       "197  So Peter we always have higher cost from the n...      1   \n",
       "198  Currently, that in-house is still undergoing, ...      0   \n",
       "199  Linda, I??l take your last question and I??l l...      0   \n",
       "\n",
       "                                                  note  \n",
       "0    Little skepticism as the questions is seemingl...  \n",
       "1    Implications that the growth may not be suista...  \n",
       "2    Question seems genuine as the individual is ju...  \n",
       "3    Not as much skepticism as curiosity of how fir...  \n",
       "4                      Seems to be a genuine question.  \n",
       "..                                                 ...  \n",
       "195  Question driven more by curiosity than skepticism  \n",
       "196     May be some skepticism on revenue expectations  \n",
       "197  Predicting higher costs can be reflective of u...  \n",
       "198  Question driven more by curiosity than skepticism  \n",
       "199  Question driven more by curiosity than skepticism  \n",
       "\n",
       "[200 rows x 7 columns]"
      ]
     },
     "execution_count": 7,
     "metadata": {},
     "output_type": "execute_result"
    }
   ],
   "source": [
    "df_michael"
   ]
  },
  {
   "cell_type": "code",
   "execution_count": 8,
   "metadata": {},
   "outputs": [
    {
     "data": {
      "text/html": [
       "<div>\n",
       "<style scoped>\n",
       "    .dataframe tbody tr th:only-of-type {\n",
       "        vertical-align: middle;\n",
       "    }\n",
       "\n",
       "    .dataframe tbody tr th {\n",
       "        vertical-align: top;\n",
       "    }\n",
       "\n",
       "    .dataframe thead th {\n",
       "        text-align: right;\n",
       "    }\n",
       "</style>\n",
       "<table border=\"1\" class=\"dataframe\">\n",
       "  <thead>\n",
       "    <tr style=\"text-align: right;\">\n",
       "      <th></th>\n",
       "      <th>encoded_unique_ticker_ts</th>\n",
       "      <th>rid</th>\n",
       "      <th>text</th>\n",
       "      <th>question</th>\n",
       "      <th>response</th>\n",
       "      <th>label</th>\n",
       "      <th>note</th>\n",
       "    </tr>\n",
       "  </thead>\n",
       "  <tbody>\n",
       "    <tr>\n",
       "      <th>0</th>\n",
       "      <td>55732</td>\n",
       "      <td>462688</td>\n",
       "      <td>Do you think it's going to be fairly rapid mov...</td>\n",
       "      <td>Very much understood, that's very helpful. Whe...</td>\n",
       "      <td>Steven, it is Armando. I think the first thing...</td>\n",
       "      <td>0.0</td>\n",
       "      <td>NaN</td>\n",
       "    </tr>\n",
       "    <tr>\n",
       "      <th>1</th>\n",
       "      <td>72687</td>\n",
       "      <td>263798</td>\n",
       "      <td>So fundamentally, longer-term, this mid single...</td>\n",
       "      <td>So fundamentally, longer-term, this mid single...</td>\n",
       "      <td>It is. We're not giving up on that.</td>\n",
       "      <td>0.0</td>\n",
       "      <td>NaN</td>\n",
       "    </tr>\n",
       "    <tr>\n",
       "      <th>2</th>\n",
       "      <td>49838</td>\n",
       "      <td>585266</td>\n",
       "      <td>I appreciate your thoughts on the recent perfo...</td>\n",
       "      <td>Hi. Good afternoon. Most of my questions have ...</td>\n",
       "      <td>Hi. It‚Äôs Craig. I‚Äôll take that. First of a...</td>\n",
       "      <td>0.0</td>\n",
       "      <td>NaN</td>\n",
       "    </tr>\n",
       "    <tr>\n",
       "      <th>3</th>\n",
       "      <td>17604</td>\n",
       "      <td>268429</td>\n",
       "      <td>But once you get to 2017, once you've delivere...</td>\n",
       "      <td>John, you've done a -- you've obviously got a ...</td>\n",
       "      <td>Well, I guess I‚Äôd say volume has always been...</td>\n",
       "      <td>0.0</td>\n",
       "      <td>NaN</td>\n",
       "    </tr>\n",
       "    <tr>\n",
       "      <th>4</th>\n",
       "      <td>15426</td>\n",
       "      <td>1021577</td>\n",
       "      <td>And then in terms of the capital spending leve...</td>\n",
       "      <td>Yeah that makes sense. And then in terms of th...</td>\n",
       "      <td>The capital spending in Horizon, you are talki...</td>\n",
       "      <td>0.0</td>\n",
       "      <td>NaN</td>\n",
       "    </tr>\n",
       "    <tr>\n",
       "      <th>...</th>\n",
       "      <td>...</td>\n",
       "      <td>...</td>\n",
       "      <td>...</td>\n",
       "      <td>...</td>\n",
       "      <td>...</td>\n",
       "      <td>...</td>\n",
       "      <td>...</td>\n",
       "    </tr>\n",
       "    <tr>\n",
       "      <th>195</th>\n",
       "      <td>15452</td>\n",
       "      <td>101445</td>\n",
       "      <td>With the free cash flow being quite strong and...</td>\n",
       "      <td>Yes, good morning, guys. Just a question on th...</td>\n",
       "      <td>Yes, it‚Äôs a good question. I would offer a c...</td>\n",
       "      <td>0.0</td>\n",
       "      <td>NaN</td>\n",
       "    </tr>\n",
       "    <tr>\n",
       "      <th>196</th>\n",
       "      <td>35580</td>\n",
       "      <td>874111</td>\n",
       "      <td>I guess last quarter you had said that you fel...</td>\n",
       "      <td>Got it. Okay, great. Last quick one here. Just...</td>\n",
       "      <td>I don't think anything has changed from what I...</td>\n",
       "      <td>0.0</td>\n",
       "      <td>NaN</td>\n",
       "    </tr>\n",
       "    <tr>\n",
       "      <th>197</th>\n",
       "      <td>52633</td>\n",
       "      <td>307473</td>\n",
       "      <td>And how confident are you that they√¢¬Ä¬ôre no...</td>\n",
       "      <td>If you look at most of your states that they g...</td>\n",
       "      <td>So Peter we always have higher cost from the n...</td>\n",
       "      <td>1.0</td>\n",
       "      <td>skeptical that rates might get raised</td>\n",
       "    </tr>\n",
       "    <tr>\n",
       "      <th>198</th>\n",
       "      <td>88151</td>\n",
       "      <td>1291498</td>\n",
       "      <td>You guys have indicated that you were going to...</td>\n",
       "      <td>And so last question is just kind of a houseke...</td>\n",
       "      <td>Currently, that in-house is still undergoing, ...</td>\n",
       "      <td>1.0</td>\n",
       "      <td>skeptical if groups will actually condense</td>\n",
       "    </tr>\n",
       "    <tr>\n",
       "      <th>199</th>\n",
       "      <td>50658</td>\n",
       "      <td>1004086</td>\n",
       "      <td>It seems that -- I've heard comments from MGA ...</td>\n",
       "      <td>Just to go back again to the issue of the reta...</td>\n",
       "      <td>Linda, I‚Äôll take your last question and I‚Äô...</td>\n",
       "      <td>0.0</td>\n",
       "      <td>NaN</td>\n",
       "    </tr>\n",
       "  </tbody>\n",
       "</table>\n",
       "<p>200 rows × 7 columns</p>\n",
       "</div>"
      ],
      "text/plain": [
       "     encoded_unique_ticker_ts      rid  \\\n",
       "0                       55732   462688   \n",
       "1                       72687   263798   \n",
       "2                       49838   585266   \n",
       "3                       17604   268429   \n",
       "4                       15426  1021577   \n",
       "..                        ...      ...   \n",
       "195                     15452   101445   \n",
       "196                     35580   874111   \n",
       "197                     52633   307473   \n",
       "198                     88151  1291498   \n",
       "199                     50658  1004086   \n",
       "\n",
       "                                                  text  \\\n",
       "0    Do you think it's going to be fairly rapid mov...   \n",
       "1    So fundamentally, longer-term, this mid single...   \n",
       "2    I appreciate your thoughts on the recent perfo...   \n",
       "3    But once you get to 2017, once you've delivere...   \n",
       "4    And then in terms of the capital spending leve...   \n",
       "..                                                 ...   \n",
       "195  With the free cash flow being quite strong and...   \n",
       "196  I guess last quarter you had said that you fel...   \n",
       "197  And how confident are you that they√¢¬Ä¬ôre no...   \n",
       "198  You guys have indicated that you were going to...   \n",
       "199  It seems that -- I've heard comments from MGA ...   \n",
       "\n",
       "                                              question  \\\n",
       "0    Very much understood, that's very helpful. Whe...   \n",
       "1    So fundamentally, longer-term, this mid single...   \n",
       "2    Hi. Good afternoon. Most of my questions have ...   \n",
       "3    John, you've done a -- you've obviously got a ...   \n",
       "4    Yeah that makes sense. And then in terms of th...   \n",
       "..                                                 ...   \n",
       "195  Yes, good morning, guys. Just a question on th...   \n",
       "196  Got it. Okay, great. Last quick one here. Just...   \n",
       "197  If you look at most of your states that they g...   \n",
       "198  And so last question is just kind of a houseke...   \n",
       "199  Just to go back again to the issue of the reta...   \n",
       "\n",
       "                                              response  label  \\\n",
       "0    Steven, it is Armando. I think the first thing...    0.0   \n",
       "1                  It is. We're not giving up on that.    0.0   \n",
       "2    Hi. It‚Äôs Craig. I‚Äôll take that. First of a...    0.0   \n",
       "3    Well, I guess I‚Äôd say volume has always been...    0.0   \n",
       "4    The capital spending in Horizon, you are talki...    0.0   \n",
       "..                                                 ...    ...   \n",
       "195  Yes, it‚Äôs a good question. I would offer a c...    0.0   \n",
       "196  I don't think anything has changed from what I...    0.0   \n",
       "197  So Peter we always have higher cost from the n...    1.0   \n",
       "198  Currently, that in-house is still undergoing, ...    1.0   \n",
       "199  Linda, I‚Äôll take your last question and I‚Äô...    0.0   \n",
       "\n",
       "                                           note  \n",
       "0                                           NaN  \n",
       "1                                           NaN  \n",
       "2                                           NaN  \n",
       "3                                           NaN  \n",
       "4                                           NaN  \n",
       "..                                          ...  \n",
       "195                                         NaN  \n",
       "196                                         NaN  \n",
       "197       skeptical that rates might get raised  \n",
       "198  skeptical if groups will actually condense  \n",
       "199                                         NaN  \n",
       "\n",
       "[200 rows x 7 columns]"
      ]
     },
     "execution_count": 8,
     "metadata": {},
     "output_type": "execute_result"
    }
   ],
   "source": [
    "df_nina"
   ]
  },
  {
   "cell_type": "markdown",
   "metadata": {},
   "source": [
    "### Check nan:"
   ]
  },
  {
   "cell_type": "code",
   "execution_count": 12,
   "metadata": {},
   "outputs": [
    {
     "data": {
      "text/plain": [
       "True"
      ]
     },
     "execution_count": 12,
     "metadata": {},
     "output_type": "execute_result"
    }
   ],
   "source": [
    "np.all(df_michael['rid'] == df_nina['rid'])"
   ]
  },
  {
   "cell_type": "code",
   "execution_count": 9,
   "metadata": {},
   "outputs": [
    {
     "data": {
      "text/html": [
       "<pre style=\"white-space:pre;overflow-x:auto;line-height:normal;font-family:Menlo,'DejaVu Sans Mono',consolas,'Courier New',monospace\"><span style=\"color: #008080; text-decoration-color: #008080; font-weight: bold\">0</span>\n",
       "</pre>\n"
      ],
      "text/plain": [
       "\u001b[1;36m0\u001b[0m\n"
      ]
     },
     "metadata": {},
     "output_type": "display_data"
    },
    {
     "data": {
      "text/html": [
       "<pre style=\"white-space:pre;overflow-x:auto;line-height:normal;font-family:Menlo,'DejaVu Sans Mono',consolas,'Courier New',monospace\"><span style=\"color: #008080; text-decoration-color: #008080; font-weight: bold\">0</span>\n",
       "</pre>\n"
      ],
      "text/plain": [
       "\u001b[1;36m0\u001b[0m\n"
      ]
     },
     "metadata": {},
     "output_type": "display_data"
    }
   ],
   "source": [
    "# check nan: michael\n",
    "print(df_michael.iloc[:, 5].isnull().sum())\n",
    "print(np.argmax(df_michael.iloc[:, 5].isnull()))"
   ]
  },
  {
   "cell_type": "code",
   "execution_count": 11,
   "metadata": {},
   "outputs": [
    {
     "data": {
      "text/html": [
       "<pre style=\"white-space:pre;overflow-x:auto;line-height:normal;font-family:Menlo,'DejaVu Sans Mono',consolas,'Courier New',monospace\"><span style=\"color: #008080; text-decoration-color: #008080; font-weight: bold\">1</span>\n",
       "</pre>\n"
      ],
      "text/plain": [
       "\u001b[1;36m1\u001b[0m\n"
      ]
     },
     "metadata": {},
     "output_type": "display_data"
    },
    {
     "data": {
      "text/html": [
       "<pre style=\"white-space:pre;overflow-x:auto;line-height:normal;font-family:Menlo,'DejaVu Sans Mono',consolas,'Courier New',monospace\"><span style=\"color: #008080; text-decoration-color: #008080; font-weight: bold\">127</span>\n",
       "</pre>\n"
      ],
      "text/plain": [
       "\u001b[1;36m127\u001b[0m\n"
      ]
     },
     "metadata": {},
     "output_type": "display_data"
    },
    {
     "data": {
      "text/html": [
       "<pre style=\"white-space:pre;overflow-x:auto;line-height:normal;font-family:Menlo,'DejaVu Sans Mono',consolas,'Courier New',monospace\">encoded_unique_ticker_ts                                                <span style=\"color: #008080; text-decoration-color: #008080; font-weight: bold\">88279</span>\n",
       "rid                                                                    <span style=\"color: #008080; text-decoration-color: #008080; font-weight: bold\">109352</span>\n",
       "text                        You did $<span style=\"color: #008080; text-decoration-color: #008080; font-weight: bold\">15</span> million this quarter, does it mean<span style=\"color: #808000; text-decoration-color: #808000\">...</span>\n",
       "question                    Two follow-ups. One on the buybacks. You did $<span style=\"color: #808000; text-decoration-color: #808000\">...</span>\n",
       "response                    We are on track, so it just happened when we s<span style=\"color: #808000; text-decoration-color: #808000\">...</span>\n",
       "label                                                                     NaN\n",
       "note                                                                      NaN\n",
       "Name: <span style=\"color: #008080; text-decoration-color: #008080; font-weight: bold\">127</span>, dtype: object\n",
       "</pre>\n"
      ],
      "text/plain": [
       "encoded_unique_ticker_ts                                                \u001b[1;36m88279\u001b[0m\n",
       "rid                                                                    \u001b[1;36m109352\u001b[0m\n",
       "text                        You did $\u001b[1;36m15\u001b[0m million this quarter, does it mean\u001b[33m...\u001b[0m\n",
       "question                    Two follow-ups. One on the buybacks. You did $\u001b[33m...\u001b[0m\n",
       "response                    We are on track, so it just happened when we s\u001b[33m...\u001b[0m\n",
       "label                                                                     NaN\n",
       "note                                                                      NaN\n",
       "Name: \u001b[1;36m127\u001b[0m, dtype: object\n"
      ]
     },
     "metadata": {},
     "output_type": "display_data"
    }
   ],
   "source": [
    "# check nan: michael\n",
    "print(df_nina.iloc[:, 5].isnull().sum())\n",
    "print(np.argmax(df_nina.iloc[:, 5].isnull()))\n",
    "print(df_nina.iloc[127, :])"
   ]
  },
  {
   "cell_type": "code",
   "execution_count": 15,
   "metadata": {},
   "outputs": [],
   "source": [
    "# drop\n",
    "df_michael = df_michael[df_michael['rid'] != 109352].copy()\n",
    "df_nina = df_nina[df_nina['rid'] != 109352].copy()"
   ]
  },
  {
   "cell_type": "code",
   "execution_count": 17,
   "metadata": {},
   "outputs": [
    {
     "data": {
      "text/html": [
       "<pre style=\"white-space:pre;overflow-x:auto;line-height:normal;font-family:Menlo,'DejaVu Sans Mono',consolas,'Courier New',monospace\"><span style=\"color: #008080; text-decoration-color: #008080; font-weight: bold\">0</span>\n",
       "</pre>\n"
      ],
      "text/plain": [
       "\u001b[1;36m0\u001b[0m\n"
      ]
     },
     "metadata": {},
     "output_type": "display_data"
    },
    {
     "data": {
      "text/html": [
       "<pre style=\"white-space:pre;overflow-x:auto;line-height:normal;font-family:Menlo,'DejaVu Sans Mono',consolas,'Courier New',monospace\"><span style=\"color: #008080; text-decoration-color: #008080; font-weight: bold\">0</span>\n",
       "</pre>\n"
      ],
      "text/plain": [
       "\u001b[1;36m0\u001b[0m\n"
      ]
     },
     "metadata": {},
     "output_type": "display_data"
    },
    {
     "data": {
      "text/html": [
       "<pre style=\"white-space:pre;overflow-x:auto;line-height:normal;font-family:Menlo,'DejaVu Sans Mono',consolas,'Courier New',monospace\"><span style=\"color: #008080; text-decoration-color: #008080; font-weight: bold\">0</span>\n",
       "</pre>\n"
      ],
      "text/plain": [
       "\u001b[1;36m0\u001b[0m\n"
      ]
     },
     "metadata": {},
     "output_type": "display_data"
    },
    {
     "data": {
      "text/html": [
       "<pre style=\"white-space:pre;overflow-x:auto;line-height:normal;font-family:Menlo,'DejaVu Sans Mono',consolas,'Courier New',monospace\"><span style=\"color: #008080; text-decoration-color: #008080; font-weight: bold\">0</span>\n",
       "</pre>\n"
      ],
      "text/plain": [
       "\u001b[1;36m0\u001b[0m\n"
      ]
     },
     "metadata": {},
     "output_type": "display_data"
    }
   ],
   "source": [
    "print(df_michael.iloc[:, 5].isnull().sum())\n",
    "print(np.argmax(df_michael.iloc[:, 5].isnull()))\n",
    "print(df_nina.iloc[:, 5].isnull().sum())\n",
    "print(np.argmax(df_nina.iloc[:, 5].isnull()))"
   ]
  },
  {
   "cell_type": "markdown",
   "metadata": {},
   "source": [
    "### Merge df:"
   ]
  },
  {
   "cell_type": "code",
   "execution_count": 19,
   "metadata": {},
   "outputs": [
    {
     "data": {
      "text/html": [
       "<div>\n",
       "<style scoped>\n",
       "    .dataframe tbody tr th:only-of-type {\n",
       "        vertical-align: middle;\n",
       "    }\n",
       "\n",
       "    .dataframe tbody tr th {\n",
       "        vertical-align: top;\n",
       "    }\n",
       "\n",
       "    .dataframe thead th {\n",
       "        text-align: right;\n",
       "    }\n",
       "</style>\n",
       "<table border=\"1\" class=\"dataframe\">\n",
       "  <thead>\n",
       "    <tr style=\"text-align: right;\">\n",
       "      <th></th>\n",
       "      <th>rid</th>\n",
       "      <th>text</th>\n",
       "      <th>label_michael</th>\n",
       "      <th>label_nina</th>\n",
       "    </tr>\n",
       "  </thead>\n",
       "  <tbody>\n",
       "    <tr>\n",
       "      <th>0</th>\n",
       "      <td>462688</td>\n",
       "      <td>Do you think it's going to be fairly rapid mov...</td>\n",
       "      <td>0</td>\n",
       "      <td>0</td>\n",
       "    </tr>\n",
       "    <tr>\n",
       "      <th>1</th>\n",
       "      <td>263798</td>\n",
       "      <td>So fundamentally, longer-term, this mid single...</td>\n",
       "      <td>1</td>\n",
       "      <td>0</td>\n",
       "    </tr>\n",
       "    <tr>\n",
       "      <th>2</th>\n",
       "      <td>585266</td>\n",
       "      <td>I appreciate your thoughts on the recent perfo...</td>\n",
       "      <td>0</td>\n",
       "      <td>0</td>\n",
       "    </tr>\n",
       "    <tr>\n",
       "      <th>3</th>\n",
       "      <td>268429</td>\n",
       "      <td>But once you get to 2017, once you've delivere...</td>\n",
       "      <td>0</td>\n",
       "      <td>0</td>\n",
       "    </tr>\n",
       "    <tr>\n",
       "      <th>4</th>\n",
       "      <td>1021577</td>\n",
       "      <td>And then in terms of the capital spending leve...</td>\n",
       "      <td>0</td>\n",
       "      <td>0</td>\n",
       "    </tr>\n",
       "    <tr>\n",
       "      <th>...</th>\n",
       "      <td>...</td>\n",
       "      <td>...</td>\n",
       "      <td>...</td>\n",
       "      <td>...</td>\n",
       "    </tr>\n",
       "    <tr>\n",
       "      <th>194</th>\n",
       "      <td>101445</td>\n",
       "      <td>With the free cash flow being quite strong and...</td>\n",
       "      <td>0</td>\n",
       "      <td>0</td>\n",
       "    </tr>\n",
       "    <tr>\n",
       "      <th>195</th>\n",
       "      <td>874111</td>\n",
       "      <td>I guess last quarter you had said that you fel...</td>\n",
       "      <td>1</td>\n",
       "      <td>0</td>\n",
       "    </tr>\n",
       "    <tr>\n",
       "      <th>196</th>\n",
       "      <td>307473</td>\n",
       "      <td>And how confident are you that they???re not g...</td>\n",
       "      <td>1</td>\n",
       "      <td>1</td>\n",
       "    </tr>\n",
       "    <tr>\n",
       "      <th>197</th>\n",
       "      <td>1291498</td>\n",
       "      <td>You guys have indicated that you were going to...</td>\n",
       "      <td>0</td>\n",
       "      <td>1</td>\n",
       "    </tr>\n",
       "    <tr>\n",
       "      <th>198</th>\n",
       "      <td>1004086</td>\n",
       "      <td>It seems that -- I've heard comments from MGA ...</td>\n",
       "      <td>0</td>\n",
       "      <td>0</td>\n",
       "    </tr>\n",
       "  </tbody>\n",
       "</table>\n",
       "<p>199 rows × 4 columns</p>\n",
       "</div>"
      ],
      "text/plain": [
       "         rid                                               text  \\\n",
       "0     462688  Do you think it's going to be fairly rapid mov...   \n",
       "1     263798  So fundamentally, longer-term, this mid single...   \n",
       "2     585266  I appreciate your thoughts on the recent perfo...   \n",
       "3     268429  But once you get to 2017, once you've delivere...   \n",
       "4    1021577  And then in terms of the capital spending leve...   \n",
       "..       ...                                                ...   \n",
       "194   101445  With the free cash flow being quite strong and...   \n",
       "195   874111  I guess last quarter you had said that you fel...   \n",
       "196   307473  And how confident are you that they???re not g...   \n",
       "197  1291498  You guys have indicated that you were going to...   \n",
       "198  1004086  It seems that -- I've heard comments from MGA ...   \n",
       "\n",
       "     label_michael  label_nina  \n",
       "0                0           0  \n",
       "1                1           0  \n",
       "2                0           0  \n",
       "3                0           0  \n",
       "4                0           0  \n",
       "..             ...         ...  \n",
       "194              0           0  \n",
       "195              1           0  \n",
       "196              1           1  \n",
       "197              0           1  \n",
       "198              0           0  \n",
       "\n",
       "[199 rows x 4 columns]"
      ]
     },
     "execution_count": 19,
     "metadata": {},
     "output_type": "execute_result"
    }
   ],
   "source": [
    "merge_df = pd.merge(df_michael[['rid', 'text', 'label']], df_nina[['rid', 'label']], on='rid', suffixes=('_michael', '_nina'))\n",
    "merge_df['label_nina'] = merge_df['label_nina'].astype(int)\n",
    "merge_df"
   ]
  },
  {
   "cell_type": "markdown",
   "metadata": {},
   "source": [
    "### Kappa Score:"
   ]
  },
  {
   "cell_type": "code",
   "execution_count": 20,
   "metadata": {},
   "outputs": [
    {
     "data": {
      "text/html": [
       "<pre style=\"white-space:pre;overflow-x:auto;line-height:normal;font-family:Menlo,'DejaVu Sans Mono',consolas,'Courier New',monospace\"><span style=\"color: #008080; text-decoration-color: #008080; font-weight: bold\">0.29869713797522435</span>\n",
       "</pre>\n"
      ],
      "text/plain": [
       "\u001b[1;36m0.29869713797522435\u001b[0m\n"
      ]
     },
     "metadata": {},
     "output_type": "display_data"
    }
   ],
   "source": [
    "kapp_score = cohen_kappa_score(merge_df['label_michael'], merge_df['label_nina'])\n",
    "print(kapp_score)"
   ]
  },
  {
   "cell_type": "code",
   "execution_count": 21,
   "metadata": {},
   "outputs": [
    {
     "data": {
      "image/png": "[encoded data removed]",
      "text/plain": [
       "<Figure size 432x288 with 2 Axes>"
      ]
     },
     "metadata": {
      "needs_background": "light"
     },
     "output_type": "display_data"
    }
   ],
   "source": [
    "cm = confusion_matrix(merge_df['label_michael'], merge_df['label_nina'])\n",
    "ax= plt.subplot()\n",
    "sns.heatmap(cm, annot=True, fmt='g', ax=ax)  #annot=True to annotate cells, ftm='g' to disable scientific notation\n",
    "\n",
    "# labels, title and ticks\n",
    "plt.title(f'Kappa Score: {kapp_score}')\n",
    "ax.set_xlabel('Nina')\n",
    "ax.set_ylabel('Michael')\n",
    "plt.savefig(os.path.join(result_path, 'week3', 'michael&nina.png'), dpi=500)"
   ]
  },
  {
   "cell_type": "code",
   "execution_count": null,
   "metadata": {},
   "outputs": [],
   "source": []
  }
 ],
 "metadata": {
  "interpreter": {
   "hash": "32bd2530b5fe2a858d4816484b46f5166b9e55669cb4790c37fc2d0b69df523b"
  },
  "kernelspec": {
   "display_name": "Python 3.9.7 ('base')",
   "language": "python",
   "name": "python3"
  },
  "language_info": {
   "codemirror_mode": {
    "name": "ipython",
    "version": 3
   },
   "file_extension": ".py",
   "mimetype": "text/x-python",
   "name": "python",
   "nbconvert_exporter": "python",
   "pygments_lexer": "ipython3",
   "version": "3.9.7"
  },
  "orig_nbformat": 4
 },
 "nbformat": 4,
 "nbformat_minor": 2
}
