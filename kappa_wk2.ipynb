{
 "cells": [
  {
   "cell_type": "markdown",
   "metadata": {},
   "source": [
    "### Michael week 2 -> Nina week 3"
   ]
  },
  {
   "cell_type": "code",
   "execution_count": 1,
   "metadata": {},
   "outputs": [],
   "source": [
    "import os\n",
    "import seaborn as sns\n",
    "import matplotlib.pyplot as plt\n",
    "import pandas as pd\n",
    "import numpy as np\n",
    "from rich import print\n",
    "from sklearn.metrics import cohen_kappa_score\n",
    "from sklearn.metrics import confusion_matrix\n",
    "\n",
    "cwd = os.path.join(os.getcwd(), 'data')\n",
    "result_path = os.path.join(os.getcwd(), 'results')"
   ]
  },
  {
   "cell_type": "markdown",
   "metadata": {},
   "source": [
    "### Load Data:"
   ]
  },
  {
   "cell_type": "code",
   "execution_count": 2,
   "metadata": {},
   "outputs": [],
   "source": [
    "# load dataframe\n",
    "df_michael = pd.read_csv(os.path.join(cwd, 'week2', 'labeled', 'michael_wk2.csv'))\n",
    "df_nina = pd.read_csv(os.path.join(cwd, 'week3', 'labeled', 'nina_wk3.csv'))"
   ]
  },
  {
   "cell_type": "code",
   "execution_count": 3,
   "metadata": {},
   "outputs": [
    {
     "data": {
      "text/html": [
       "<div>\n",
       "<style scoped>\n",
       "    .dataframe tbody tr th:only-of-type {\n",
       "        vertical-align: middle;\n",
       "    }\n",
       "\n",
       "    .dataframe tbody tr th {\n",
       "        vertical-align: top;\n",
       "    }\n",
       "\n",
       "    .dataframe thead th {\n",
       "        text-align: right;\n",
       "    }\n",
       "</style>\n",
       "<table border=\"1\" class=\"dataframe\">\n",
       "  <thead>\n",
       "    <tr style=\"text-align: right;\">\n",
       "      <th></th>\n",
       "      <th>encoded_unique_ticker_ts</th>\n",
       "      <th>rid</th>\n",
       "      <th>text</th>\n",
       "      <th>question</th>\n",
       "      <th>response</th>\n",
       "      <th>label</th>\n",
       "      <th>note</th>\n",
       "    </tr>\n",
       "  </thead>\n",
       "  <tbody>\n",
       "    <tr>\n",
       "      <th>0</th>\n",
       "      <td>89028.0</td>\n",
       "      <td>389277.0</td>\n",
       "      <td>Does it require you to change the types of req...</td>\n",
       "      <td>Good morning, thank you. I guess I'll continue...</td>\n",
       "      <td>Well, I think it does a number of things, but ...</td>\n",
       "      <td>1.0</td>\n",
       "      <td>further context implies skepticism for the nex...</td>\n",
       "    </tr>\n",
       "    <tr>\n",
       "      <th>1</th>\n",
       "      <td>81192.0</td>\n",
       "      <td>13981.0</td>\n",
       "      <td>So obviously I think the guidance is anything ...</td>\n",
       "      <td>Okay, sure. So obviously I think the guidance ...</td>\n",
       "      <td>Yes, now listen as guided, I mean we are conti...</td>\n",
       "      <td>0.0</td>\n",
       "      <td>NaN</td>\n",
       "    </tr>\n",
       "    <tr>\n",
       "      <th>2</th>\n",
       "      <td>31171.0</td>\n",
       "      <td>723606.0</td>\n",
       "      <td>And is your sense that they will get to a poin...</td>\n",
       "      <td>Yes, okay. That's very good color, and I appre...</td>\n",
       "      <td>Over the longer haul I think that that maybe p...</td>\n",
       "      <td>0.0</td>\n",
       "      <td>NaN</td>\n",
       "    </tr>\n",
       "    <tr>\n",
       "      <th>3</th>\n",
       "      <td>64119.0</td>\n",
       "      <td>886290.0</td>\n",
       "      <td>Was that a competitive deal, and if it was, we...</td>\n",
       "      <td>I would like to go back to the one deal, the s...</td>\n",
       "      <td>So Steve pardon my poor English there, it wasn...</td>\n",
       "      <td>0.0</td>\n",
       "      <td>NaN</td>\n",
       "    </tr>\n",
       "    <tr>\n",
       "      <th>4</th>\n",
       "      <td>75857.0</td>\n",
       "      <td>234259.0</td>\n",
       "      <td>So with the World Cup, think you said that ARP...</td>\n",
       "      <td>I'd like to just ask 2 questions: one, just to...</td>\n",
       "      <td>Thank you, Paul. And just starting with your f...</td>\n",
       "      <td>0.0</td>\n",
       "      <td>NaN</td>\n",
       "    </tr>\n",
       "    <tr>\n",
       "      <th>...</th>\n",
       "      <td>...</td>\n",
       "      <td>...</td>\n",
       "      <td>...</td>\n",
       "      <td>...</td>\n",
       "      <td>...</td>\n",
       "      <td>...</td>\n",
       "      <td>...</td>\n",
       "    </tr>\n",
       "    <tr>\n",
       "      <th>196</th>\n",
       "      <td>3061.0</td>\n",
       "      <td>1162044.0</td>\n",
       "      <td>If you look at the remainder of the year, Bill...</td>\n",
       "      <td>Okay. If you look at the remainder of the year...</td>\n",
       "      <td>Well, as I said, I think that, first of all, t...</td>\n",
       "      <td>1.0</td>\n",
       "      <td>skeptucal to why they are positive if the numb...</td>\n",
       "    </tr>\n",
       "    <tr>\n",
       "      <th>197</th>\n",
       "      <td>79527.0</td>\n",
       "      <td>912400.0</td>\n",
       "      <td>In your Consumer Brands business, did the Vals...</td>\n",
       "      <td>Hi. In your Consumer Brands business, did the ...</td>\n",
       "      <td>Well, let me take a stab at this Jeff and say ...</td>\n",
       "      <td>0.0</td>\n",
       "      <td>NaN</td>\n",
       "    </tr>\n",
       "    <tr>\n",
       "      <th>198</th>\n",
       "      <td>42818.0</td>\n",
       "      <td>778112.0</td>\n",
       "      <td>Just to clarify, the $15 million combined betw...</td>\n",
       "      <td>Yes. Just to clarify, the $15 million combined...</td>\n",
       "      <td>Yes, I think when we look at it over the year,...</td>\n",
       "      <td>0.0</td>\n",
       "      <td>NaN</td>\n",
       "    </tr>\n",
       "    <tr>\n",
       "      <th>199</th>\n",
       "      <td>11703.0</td>\n",
       "      <td>960031.0</td>\n",
       "      <td>Very good.</td>\n",
       "      <td>Very good. And then final question, and I'll s...</td>\n",
       "      <td>Yes, we have actually kept loan pricing very s...</td>\n",
       "      <td>0.0</td>\n",
       "      <td>NaN</td>\n",
       "    </tr>\n",
       "    <tr>\n",
       "      <th>200</th>\n",
       "      <td>NaN</td>\n",
       "      <td>NaN</td>\n",
       "      <td>NaN</td>\n",
       "      <td>NaN</td>\n",
       "      <td>NaN</td>\n",
       "      <td>NaN</td>\n",
       "      <td>NaN</td>\n",
       "    </tr>\n",
       "  </tbody>\n",
       "</table>\n",
       "<p>201 rows × 7 columns</p>\n",
       "</div>"
      ],
      "text/plain": [
       "     encoded_unique_ticker_ts        rid  \\\n",
       "0                     89028.0   389277.0   \n",
       "1                     81192.0    13981.0   \n",
       "2                     31171.0   723606.0   \n",
       "3                     64119.0   886290.0   \n",
       "4                     75857.0   234259.0   \n",
       "..                        ...        ...   \n",
       "196                    3061.0  1162044.0   \n",
       "197                   79527.0   912400.0   \n",
       "198                   42818.0   778112.0   \n",
       "199                   11703.0   960031.0   \n",
       "200                       NaN        NaN   \n",
       "\n",
       "                                                  text  \\\n",
       "0    Does it require you to change the types of req...   \n",
       "1    So obviously I think the guidance is anything ...   \n",
       "2    And is your sense that they will get to a poin...   \n",
       "3    Was that a competitive deal, and if it was, we...   \n",
       "4    So with the World Cup, think you said that ARP...   \n",
       "..                                                 ...   \n",
       "196  If you look at the remainder of the year, Bill...   \n",
       "197  In your Consumer Brands business, did the Vals...   \n",
       "198  Just to clarify, the $15 million combined betw...   \n",
       "199                                         Very good.   \n",
       "200                                                NaN   \n",
       "\n",
       "                                              question  \\\n",
       "0    Good morning, thank you. I guess I'll continue...   \n",
       "1    Okay, sure. So obviously I think the guidance ...   \n",
       "2    Yes, okay. That's very good color, and I appre...   \n",
       "3    I would like to go back to the one deal, the s...   \n",
       "4    I'd like to just ask 2 questions: one, just to...   \n",
       "..                                                 ...   \n",
       "196  Okay. If you look at the remainder of the year...   \n",
       "197  Hi. In your Consumer Brands business, did the ...   \n",
       "198  Yes. Just to clarify, the $15 million combined...   \n",
       "199  Very good. And then final question, and I'll s...   \n",
       "200                                                NaN   \n",
       "\n",
       "                                              response  label  \\\n",
       "0    Well, I think it does a number of things, but ...    1.0   \n",
       "1    Yes, now listen as guided, I mean we are conti...    0.0   \n",
       "2    Over the longer haul I think that that maybe p...    0.0   \n",
       "3    So Steve pardon my poor English there, it wasn...    0.0   \n",
       "4    Thank you, Paul. And just starting with your f...    0.0   \n",
       "..                                                 ...    ...   \n",
       "196  Well, as I said, I think that, first of all, t...    1.0   \n",
       "197  Well, let me take a stab at this Jeff and say ...    0.0   \n",
       "198  Yes, I think when we look at it over the year,...    0.0   \n",
       "199  Yes, we have actually kept loan pricing very s...    0.0   \n",
       "200                                                NaN    NaN   \n",
       "\n",
       "                                                  note  \n",
       "0    further context implies skepticism for the nex...  \n",
       "1                                                  NaN  \n",
       "2                                                  NaN  \n",
       "3                                                  NaN  \n",
       "4                                                  NaN  \n",
       "..                                                 ...  \n",
       "196  skeptucal to why they are positive if the numb...  \n",
       "197                                                NaN  \n",
       "198                                                NaN  \n",
       "199                                                NaN  \n",
       "200                                                NaN  \n",
       "\n",
       "[201 rows x 7 columns]"
      ]
     },
     "execution_count": 3,
     "metadata": {},
     "output_type": "execute_result"
    }
   ],
   "source": [
    "df_nina"
   ]
  },
  {
   "cell_type": "code",
   "execution_count": 4,
   "metadata": {},
   "outputs": [
    {
     "data": {
      "text/html": [
       "<div>\n",
       "<style scoped>\n",
       "    .dataframe tbody tr th:only-of-type {\n",
       "        vertical-align: middle;\n",
       "    }\n",
       "\n",
       "    .dataframe tbody tr th {\n",
       "        vertical-align: top;\n",
       "    }\n",
       "\n",
       "    .dataframe thead th {\n",
       "        text-align: right;\n",
       "    }\n",
       "</style>\n",
       "<table border=\"1\" class=\"dataframe\">\n",
       "  <thead>\n",
       "    <tr style=\"text-align: right;\">\n",
       "      <th></th>\n",
       "      <th>encoded_unique_ticker_ts</th>\n",
       "      <th>rid</th>\n",
       "      <th>text</th>\n",
       "      <th>question</th>\n",
       "      <th>response</th>\n",
       "      <th>label</th>\n",
       "      <th>note</th>\n",
       "    </tr>\n",
       "  </thead>\n",
       "  <tbody>\n",
       "    <tr>\n",
       "      <th>0</th>\n",
       "      <td>89028</td>\n",
       "      <td>389277</td>\n",
       "      <td>Does it require you to change the types of req...</td>\n",
       "      <td>Good morning, thank you. I guess I'll continue...</td>\n",
       "      <td>Well, I think it does a number of things, but ...</td>\n",
       "      <td>0</td>\n",
       "      <td>Just a question, an explanation can be given.</td>\n",
       "    </tr>\n",
       "    <tr>\n",
       "      <th>1</th>\n",
       "      <td>81192</td>\n",
       "      <td>13981</td>\n",
       "      <td>So obviously I think the guidance is anything ...</td>\n",
       "      <td>Okay, sure. So obviously I think the guidance ...</td>\n",
       "      <td>Yes, now listen as guided, I mean we are conti...</td>\n",
       "      <td>0</td>\n",
       "      <td>Agreement between both parties, so no outright...</td>\n",
       "    </tr>\n",
       "    <tr>\n",
       "      <th>2</th>\n",
       "      <td>31171</td>\n",
       "      <td>723606</td>\n",
       "      <td>And is your sense that they will get to a poin...</td>\n",
       "      <td>Yes, okay. That's very good color, and I appre...</td>\n",
       "      <td>Over the longer haul I think that that maybe p...</td>\n",
       "      <td>0</td>\n",
       "      <td>Just a question that requires an explanation.</td>\n",
       "    </tr>\n",
       "    <tr>\n",
       "      <th>3</th>\n",
       "      <td>64119</td>\n",
       "      <td>886290</td>\n",
       "      <td>Was that a competitive deal, and if it was, we...</td>\n",
       "      <td>I would like to go back to the one deal, the s...</td>\n",
       "      <td>So Steve pardon my poor English there, it wasn...</td>\n",
       "      <td>1</td>\n",
       "      <td>Hint of skepticism as they are asking if the d...</td>\n",
       "    </tr>\n",
       "    <tr>\n",
       "      <th>4</th>\n",
       "      <td>75857</td>\n",
       "      <td>234259</td>\n",
       "      <td>So with the World Cup, think you said that ARP...</td>\n",
       "      <td>I'd like to just ask 2 questions: one, just to...</td>\n",
       "      <td>Thank you, Paul. And just starting with your f...</td>\n",
       "      <td>0</td>\n",
       "      <td>Question seems to just require confirmation.</td>\n",
       "    </tr>\n",
       "    <tr>\n",
       "      <th>...</th>\n",
       "      <td>...</td>\n",
       "      <td>...</td>\n",
       "      <td>...</td>\n",
       "      <td>...</td>\n",
       "      <td>...</td>\n",
       "      <td>...</td>\n",
       "      <td>...</td>\n",
       "    </tr>\n",
       "    <tr>\n",
       "      <th>195</th>\n",
       "      <td>19546</td>\n",
       "      <td>1219012</td>\n",
       "      <td>So could you clarify whether is it that the ca...</td>\n",
       "      <td>Basically in the past and we know that the fac...</td>\n",
       "      <td>Well the oral care organic sales were better t...</td>\n",
       "      <td>1</td>\n",
       "      <td>There may be a little skepticism as they are i...</td>\n",
       "    </tr>\n",
       "    <tr>\n",
       "      <th>196</th>\n",
       "      <td>3061</td>\n",
       "      <td>1162044</td>\n",
       "      <td>If you look at the remainder of the year, Bill...</td>\n",
       "      <td>Okay. If you look at the remainder of the year...</td>\n",
       "      <td>Well, as I said, I think that, first of all, t...</td>\n",
       "      <td>1</td>\n",
       "      <td>Inquiring about a change, that is deflected by...</td>\n",
       "    </tr>\n",
       "    <tr>\n",
       "      <th>197</th>\n",
       "      <td>79527</td>\n",
       "      <td>912400</td>\n",
       "      <td>In your Consumer Brands business, did the Vals...</td>\n",
       "      <td>Hi. In your Consumer Brands business, did the ...</td>\n",
       "      <td>Well, let me take a stab at this Jeff and say ...</td>\n",
       "      <td>0</td>\n",
       "      <td>Just a question that seemingly asks about perf...</td>\n",
       "    </tr>\n",
       "    <tr>\n",
       "      <th>198</th>\n",
       "      <td>42818</td>\n",
       "      <td>778112</td>\n",
       "      <td>Just to clarify, the $15 million combined betw...</td>\n",
       "      <td>Yes. Just to clarify, the $15 million combined...</td>\n",
       "      <td>Yes, I think when we look at it over the year,...</td>\n",
       "      <td>0</td>\n",
       "      <td>Seems as if it is just a logisticial question.</td>\n",
       "    </tr>\n",
       "    <tr>\n",
       "      <th>199</th>\n",
       "      <td>11703</td>\n",
       "      <td>960031</td>\n",
       "      <td>Very good.</td>\n",
       "      <td>Very good. And then final question, and I'll s...</td>\n",
       "      <td>Yes, we have actually kept loan pricing very s...</td>\n",
       "      <td>0</td>\n",
       "      <td>No hint of slepticism, just agreement.</td>\n",
       "    </tr>\n",
       "  </tbody>\n",
       "</table>\n",
       "<p>200 rows × 7 columns</p>\n",
       "</div>"
      ],
      "text/plain": [
       "     encoded_unique_ticker_ts      rid  \\\n",
       "0                       89028   389277   \n",
       "1                       81192    13981   \n",
       "2                       31171   723606   \n",
       "3                       64119   886290   \n",
       "4                       75857   234259   \n",
       "..                        ...      ...   \n",
       "195                     19546  1219012   \n",
       "196                      3061  1162044   \n",
       "197                     79527   912400   \n",
       "198                     42818   778112   \n",
       "199                     11703   960031   \n",
       "\n",
       "                                                  text  \\\n",
       "0    Does it require you to change the types of req...   \n",
       "1    So obviously I think the guidance is anything ...   \n",
       "2    And is your sense that they will get to a poin...   \n",
       "3    Was that a competitive deal, and if it was, we...   \n",
       "4    So with the World Cup, think you said that ARP...   \n",
       "..                                                 ...   \n",
       "195  So could you clarify whether is it that the ca...   \n",
       "196  If you look at the remainder of the year, Bill...   \n",
       "197  In your Consumer Brands business, did the Vals...   \n",
       "198  Just to clarify, the $15 million combined betw...   \n",
       "199                                         Very good.   \n",
       "\n",
       "                                              question  \\\n",
       "0    Good morning, thank you. I guess I'll continue...   \n",
       "1    Okay, sure. So obviously I think the guidance ...   \n",
       "2    Yes, okay. That's very good color, and I appre...   \n",
       "3    I would like to go back to the one deal, the s...   \n",
       "4    I'd like to just ask 2 questions: one, just to...   \n",
       "..                                                 ...   \n",
       "195  Basically in the past and we know that the fac...   \n",
       "196  Okay. If you look at the remainder of the year...   \n",
       "197  Hi. In your Consumer Brands business, did the ...   \n",
       "198  Yes. Just to clarify, the $15 million combined...   \n",
       "199  Very good. And then final question, and I'll s...   \n",
       "\n",
       "                                              response  label  \\\n",
       "0    Well, I think it does a number of things, but ...      0   \n",
       "1    Yes, now listen as guided, I mean we are conti...      0   \n",
       "2    Over the longer haul I think that that maybe p...      0   \n",
       "3    So Steve pardon my poor English there, it wasn...      1   \n",
       "4    Thank you, Paul. And just starting with your f...      0   \n",
       "..                                                 ...    ...   \n",
       "195  Well the oral care organic sales were better t...      1   \n",
       "196  Well, as I said, I think that, first of all, t...      1   \n",
       "197  Well, let me take a stab at this Jeff and say ...      0   \n",
       "198  Yes, I think when we look at it over the year,...      0   \n",
       "199  Yes, we have actually kept loan pricing very s...      0   \n",
       "\n",
       "                                                  note  \n",
       "0        Just a question, an explanation can be given.  \n",
       "1    Agreement between both parties, so no outright...  \n",
       "2        Just a question that requires an explanation.  \n",
       "3    Hint of skepticism as they are asking if the d...  \n",
       "4         Question seems to just require confirmation.  \n",
       "..                                                 ...  \n",
       "195  There may be a little skepticism as they are i...  \n",
       "196  Inquiring about a change, that is deflected by...  \n",
       "197  Just a question that seemingly asks about perf...  \n",
       "198    Seems as if it is just a logisticial question.   \n",
       "199             No hint of slepticism, just agreement.  \n",
       "\n",
       "[200 rows x 7 columns]"
      ]
     },
     "execution_count": 4,
     "metadata": {},
     "output_type": "execute_result"
    }
   ],
   "source": [
    "df_michael"
   ]
  },
  {
   "cell_type": "markdown",
   "metadata": {},
   "source": [
    "### Check nan:"
   ]
  },
  {
   "cell_type": "code",
   "execution_count": 5,
   "metadata": {},
   "outputs": [
    {
     "data": {
      "text/html": [
       "<pre style=\"white-space:pre;overflow-x:auto;line-height:normal;font-family:Menlo,'DejaVu Sans Mono',consolas,'Courier New',monospace\"><span style=\"color: #008080; text-decoration-color: #008080; font-weight: bold\">0</span>\n",
       "</pre>\n"
      ],
      "text/plain": [
       "\u001b[1;36m0\u001b[0m\n"
      ]
     },
     "metadata": {},
     "output_type": "display_data"
    },
    {
     "data": {
      "text/html": [
       "<pre style=\"white-space:pre;overflow-x:auto;line-height:normal;font-family:Menlo,'DejaVu Sans Mono',consolas,'Courier New',monospace\"><span style=\"color: #008080; text-decoration-color: #008080; font-weight: bold\">0</span>\n",
       "</pre>\n"
      ],
      "text/plain": [
       "\u001b[1;36m0\u001b[0m\n"
      ]
     },
     "metadata": {},
     "output_type": "display_data"
    }
   ],
   "source": [
    "# check nan: michael\n",
    "print(df_michael.iloc[:, 5].isnull().sum())\n",
    "print(np.argmax(df_michael.iloc[:, 5].isnull()))"
   ]
  },
  {
   "cell_type": "code",
   "execution_count": 6,
   "metadata": {},
   "outputs": [
    {
     "data": {
      "text/html": [
       "<pre style=\"white-space:pre;overflow-x:auto;line-height:normal;font-family:Menlo,'DejaVu Sans Mono',consolas,'Courier New',monospace\"><span style=\"color: #008080; text-decoration-color: #008080; font-weight: bold\">1</span>\n",
       "</pre>\n"
      ],
      "text/plain": [
       "\u001b[1;36m1\u001b[0m\n"
      ]
     },
     "metadata": {},
     "output_type": "display_data"
    },
    {
     "data": {
      "text/html": [
       "<pre style=\"white-space:pre;overflow-x:auto;line-height:normal;font-family:Menlo,'DejaVu Sans Mono',consolas,'Courier New',monospace\"><span style=\"color: #008080; text-decoration-color: #008080; font-weight: bold\">200</span>\n",
       "</pre>\n"
      ],
      "text/plain": [
       "\u001b[1;36m200\u001b[0m\n"
      ]
     },
     "metadata": {},
     "output_type": "display_data"
    }
   ],
   "source": [
    "# check nan: nina\n",
    "print(df_nina.iloc[:, 5].isnull().sum())\n",
    "print(np.argmax(df_nina.iloc[:, 5].isnull()))"
   ]
  },
  {
   "cell_type": "code",
   "execution_count": 7,
   "metadata": {},
   "outputs": [],
   "source": [
    "df_nina.drop(inplace=True, axis=1, index=np.argmax(df_nina.iloc[:, 3].isnull()))"
   ]
  },
  {
   "cell_type": "markdown",
   "metadata": {},
   "source": [
    "### Check two df before merging:"
   ]
  },
  {
   "cell_type": "code",
   "execution_count": 8,
   "metadata": {},
   "outputs": [
    {
     "data": {
      "text/plain": [
       "(array([  5,  20,  21,  28,  29,  30,  52,  61,  84, 126, 129, 139, 140,\n",
       "        146, 150, 159, 171, 193, 195]),)"
      ]
     },
     "execution_count": 8,
     "metadata": {},
     "output_type": "execute_result"
    }
   ],
   "source": [
    "np.where(~(df_nina['text'] == df_michael['text']))"
   ]
  },
  {
   "cell_type": "code",
   "execution_count": 9,
   "metadata": {},
   "outputs": [
    {
     "data": {
      "text/html": [
       "<pre style=\"white-space:pre;overflow-x:auto;line-height:normal;font-family:Menlo,'DejaVu Sans Mono',consolas,'Courier New',monospace\">Iâm just curious a quarter end to these changes; if your expectations have changed, I mean \n",
       "what you are seeing other competitors in the marketplace do, what has been kind of customer \n",
       "reaction, but sort of whatâs you are seeing from the fee uptick?\n",
       "</pre>\n"
      ],
      "text/plain": [
       "Iâm just curious a quarter end to these changes; if your expectations have changed, I mean \n",
       "what you are seeing other competitors in the marketplace do, what has been kind of customer \n",
       "reaction, but sort of whatâs you are seeing from the fee uptick?\n"
      ]
     },
     "metadata": {},
     "output_type": "display_data"
    },
    {
     "data": {
      "text/html": [
       "<pre style=\"white-space:pre;overflow-x:auto;line-height:normal;font-family:Menlo,'DejaVu Sans Mono',consolas,'Courier New',monospace\">**************************************************\n",
       "</pre>\n"
      ],
      "text/plain": [
       "**************************************************\n"
      ]
     },
     "metadata": {},
     "output_type": "display_data"
    },
    {
     "data": {
      "text/html": [
       "<pre style=\"white-space:pre;overflow-x:auto;line-height:normal;font-family:Menlo,'DejaVu Sans Mono',consolas,'Courier New',monospace\">I???m just curious a quarter end to these changes; if your expectations have changed, I mean \n",
       "what you are seeing other competitors in the marketplace do, what has been kind of customer \n",
       "reaction, but sort of what???s you are seeing from the fee uptick?\n",
       "</pre>\n"
      ],
      "text/plain": [
       "I???m just curious a quarter end to these changes; if your expectations have changed, I mean \n",
       "what you are seeing other competitors in the marketplace do, what has been kind of customer \n",
       "reaction, but sort of what???s you are seeing from the fee uptick?\n"
      ]
     },
     "metadata": {},
     "output_type": "display_data"
    },
    {
     "data": {
      "text/html": [
       "<pre style=\"white-space:pre;overflow-x:auto;line-height:normal;font-family:Menlo,'DejaVu Sans Mono',consolas,'Courier New',monospace\">&amp;&amp;&amp;&amp;&amp;&amp;&amp;&amp;&amp;&amp;&amp;&amp;&amp;&amp;&amp;&amp;&amp;&amp;&amp;&amp;&amp;&amp;&amp;&amp;&amp;&amp;&amp;&amp;&amp;&amp;&amp;&amp;&amp;&amp;&amp;&amp;&amp;&amp;&amp;&amp;&amp;&amp;&amp;&amp;&amp;&amp;&amp;&amp;&amp;&amp;\n",
       "</pre>\n"
      ],
      "text/plain": [
       "&&&&&&&&&&&&&&&&&&&&&&&&&&&&&&&&&&&&&&&&&&&&&&&&&&\n"
      ]
     },
     "metadata": {},
     "output_type": "display_data"
    },
    {
     "data": {
      "text/html": [
       "<pre style=\"white-space:pre;overflow-x:auto;line-height:normal;font-family:Menlo,'DejaVu Sans Mono',consolas,'Courier New',monospace\">Right, but your security VAS <span style=\"color: #008080; text-decoration-color: #008080; font-weight: bold\">50</span>% to <span style=\"color: #008080; text-decoration-color: #008080; font-weight: bold\">27</span>% has got a long way to go to offsetting the declines \n",
       "in the <span style=\"color: #008080; text-decoration-color: #008080; font-weight: bold\">75</span>% of your business thatâs not VAS.\n",
       "</pre>\n"
      ],
      "text/plain": [
       "Right, but your security VAS \u001b[1;36m50\u001b[0m% to \u001b[1;36m27\u001b[0m% has got a long way to go to offsetting the declines \n",
       "in the \u001b[1;36m75\u001b[0m% of your business thatâs not VAS.\n"
      ]
     },
     "metadata": {},
     "output_type": "display_data"
    },
    {
     "data": {
      "text/html": [
       "<pre style=\"white-space:pre;overflow-x:auto;line-height:normal;font-family:Menlo,'DejaVu Sans Mono',consolas,'Courier New',monospace\">**************************************************\n",
       "</pre>\n"
      ],
      "text/plain": [
       "**************************************************\n"
      ]
     },
     "metadata": {},
     "output_type": "display_data"
    },
    {
     "data": {
      "text/html": [
       "<pre style=\"white-space:pre;overflow-x:auto;line-height:normal;font-family:Menlo,'DejaVu Sans Mono',consolas,'Courier New',monospace\">Right, but your security VAS <span style=\"color: #008080; text-decoration-color: #008080; font-weight: bold\">50</span>% to <span style=\"color: #008080; text-decoration-color: #008080; font-weight: bold\">27</span>% has got a long way to go to offsetting the declines \n",
       "in the <span style=\"color: #008080; text-decoration-color: #008080; font-weight: bold\">75</span>% of your business that???s not VAS.\n",
       "</pre>\n"
      ],
      "text/plain": [
       "Right, but your security VAS \u001b[1;36m50\u001b[0m% to \u001b[1;36m27\u001b[0m% has got a long way to go to offsetting the declines \n",
       "in the \u001b[1;36m75\u001b[0m% of your business that???s not VAS.\n"
      ]
     },
     "metadata": {},
     "output_type": "display_data"
    },
    {
     "data": {
      "text/html": [
       "<pre style=\"white-space:pre;overflow-x:auto;line-height:normal;font-family:Menlo,'DejaVu Sans Mono',consolas,'Courier New',monospace\">&amp;&amp;&amp;&amp;&amp;&amp;&amp;&amp;&amp;&amp;&amp;&amp;&amp;&amp;&amp;&amp;&amp;&amp;&amp;&amp;&amp;&amp;&amp;&amp;&amp;&amp;&amp;&amp;&amp;&amp;&amp;&amp;&amp;&amp;&amp;&amp;&amp;&amp;&amp;&amp;&amp;&amp;&amp;&amp;&amp;&amp;&amp;&amp;&amp;&amp;\n",
       "</pre>\n"
      ],
      "text/plain": [
       "&&&&&&&&&&&&&&&&&&&&&&&&&&&&&&&&&&&&&&&&&&&&&&&&&&\n"
      ]
     },
     "metadata": {},
     "output_type": "display_data"
    },
    {
     "data": {
      "text/html": [
       "<pre style=\"white-space:pre;overflow-x:auto;line-height:normal;font-family:Menlo,'DejaVu Sans Mono',consolas,'Courier New',monospace\">And I donât know maybe there are some things there that youâve got from this or maybe this\n",
       "one just didnât work for other unique reasons.\n",
       "</pre>\n"
      ],
      "text/plain": [
       "And I donât know maybe there are some things there that youâve got from this or maybe this\n",
       "one just didnât work for other unique reasons.\n"
      ]
     },
     "metadata": {},
     "output_type": "display_data"
    },
    {
     "data": {
      "text/html": [
       "<pre style=\"white-space:pre;overflow-x:auto;line-height:normal;font-family:Menlo,'DejaVu Sans Mono',consolas,'Courier New',monospace\">**************************************************\n",
       "</pre>\n"
      ],
      "text/plain": [
       "**************************************************\n"
      ]
     },
     "metadata": {},
     "output_type": "display_data"
    },
    {
     "data": {
      "text/html": [
       "<pre style=\"white-space:pre;overflow-x:auto;line-height:normal;font-family:Menlo,'DejaVu Sans Mono',consolas,'Courier New',monospace\">And I don???t know maybe there are some things there that you???ve got from this or maybe \n",
       "this one just didn???t work for other unique reasons.\n",
       "</pre>\n"
      ],
      "text/plain": [
       "And I don???t know maybe there are some things there that you???ve got from this or maybe \n",
       "this one just didn???t work for other unique reasons.\n"
      ]
     },
     "metadata": {},
     "output_type": "display_data"
    },
    {
     "data": {
      "text/html": [
       "<pre style=\"white-space:pre;overflow-x:auto;line-height:normal;font-family:Menlo,'DejaVu Sans Mono',consolas,'Courier New',monospace\">&amp;&amp;&amp;&amp;&amp;&amp;&amp;&amp;&amp;&amp;&amp;&amp;&amp;&amp;&amp;&amp;&amp;&amp;&amp;&amp;&amp;&amp;&amp;&amp;&amp;&amp;&amp;&amp;&amp;&amp;&amp;&amp;&amp;&amp;&amp;&amp;&amp;&amp;&amp;&amp;&amp;&amp;&amp;&amp;&amp;&amp;&amp;&amp;&amp;&amp;\n",
       "</pre>\n"
      ],
      "text/plain": [
       "&&&&&&&&&&&&&&&&&&&&&&&&&&&&&&&&&&&&&&&&&&&&&&&&&&\n"
      ]
     },
     "metadata": {},
     "output_type": "display_data"
    },
    {
     "data": {
      "text/html": [
       "<pre style=\"white-space:pre;overflow-x:auto;line-height:normal;font-family:Menlo,'DejaVu Sans Mono',consolas,'Courier New',monospace\">Paul, just your comments regarding Street estimates for EPS and not taking into account maybe\n",
       "higher operating cost, I understand that, but can you maybe comment on and I know this is \n",
       "probably a little bit more difficult to comment on, but on the revenue side, I mean, if you \n",
       "look at consensus estimates, itâs around mid single-digit revenue growth over the next say \n",
       "four quarters.\n",
       "</pre>\n"
      ],
      "text/plain": [
       "Paul, just your comments regarding Street estimates for EPS and not taking into account maybe\n",
       "higher operating cost, I understand that, but can you maybe comment on and I know this is \n",
       "probably a little bit more difficult to comment on, but on the revenue side, I mean, if you \n",
       "look at consensus estimates, itâs around mid single-digit revenue growth over the next say \n",
       "four quarters.\n"
      ]
     },
     "metadata": {},
     "output_type": "display_data"
    },
    {
     "data": {
      "text/html": [
       "<pre style=\"white-space:pre;overflow-x:auto;line-height:normal;font-family:Menlo,'DejaVu Sans Mono',consolas,'Courier New',monospace\">**************************************************\n",
       "</pre>\n"
      ],
      "text/plain": [
       "**************************************************\n"
      ]
     },
     "metadata": {},
     "output_type": "display_data"
    },
    {
     "data": {
      "text/html": [
       "<pre style=\"white-space:pre;overflow-x:auto;line-height:normal;font-family:Menlo,'DejaVu Sans Mono',consolas,'Courier New',monospace\">Paul, just your comments regarding Street estimates for EPS and not taking into account maybe\n",
       "higher operating cost, I understand that, but can you maybe comment on and I know this is \n",
       "probably a little bit more difficult to comment on, but on the revenue side, I mean, if you \n",
       "look at consensus estimates, it???s around mid single-digit revenue growth over the next say \n",
       "four quarters.\n",
       "</pre>\n"
      ],
      "text/plain": [
       "Paul, just your comments regarding Street estimates for EPS and not taking into account maybe\n",
       "higher operating cost, I understand that, but can you maybe comment on and I know this is \n",
       "probably a little bit more difficult to comment on, but on the revenue side, I mean, if you \n",
       "look at consensus estimates, it???s around mid single-digit revenue growth over the next say \n",
       "four quarters.\n"
      ]
     },
     "metadata": {},
     "output_type": "display_data"
    },
    {
     "data": {
      "text/html": [
       "<pre style=\"white-space:pre;overflow-x:auto;line-height:normal;font-family:Menlo,'DejaVu Sans Mono',consolas,'Courier New',monospace\">&amp;&amp;&amp;&amp;&amp;&amp;&amp;&amp;&amp;&amp;&amp;&amp;&amp;&amp;&amp;&amp;&amp;&amp;&amp;&amp;&amp;&amp;&amp;&amp;&amp;&amp;&amp;&amp;&amp;&amp;&amp;&amp;&amp;&amp;&amp;&amp;&amp;&amp;&amp;&amp;&amp;&amp;&amp;&amp;&amp;&amp;&amp;&amp;&amp;&amp;\n",
       "</pre>\n"
      ],
      "text/plain": [
       "&&&&&&&&&&&&&&&&&&&&&&&&&&&&&&&&&&&&&&&&&&&&&&&&&&\n"
      ]
     },
     "metadata": {},
     "output_type": "display_data"
    },
    {
     "data": {
      "text/html": [
       "<pre style=\"white-space:pre;overflow-x:auto;line-height:normal;font-family:Menlo,'DejaVu Sans Mono',consolas,'Courier New',monospace\">First Matt, can you help us get to an appropriate gross margin and SG&amp;A run rate before \n",
       "layering in Questcor I know thatâs a multifaceted question but I know you will try to be \n",
       "helpful on those moving parts?\n",
       "</pre>\n"
      ],
      "text/plain": [
       "First Matt, can you help us get to an appropriate gross margin and SG&A run rate before \n",
       "layering in Questcor I know thatâs a multifaceted question but I know you will try to be \n",
       "helpful on those moving parts?\n"
      ]
     },
     "metadata": {},
     "output_type": "display_data"
    },
    {
     "data": {
      "text/html": [
       "<pre style=\"white-space:pre;overflow-x:auto;line-height:normal;font-family:Menlo,'DejaVu Sans Mono',consolas,'Courier New',monospace\">**************************************************\n",
       "</pre>\n"
      ],
      "text/plain": [
       "**************************************************\n"
      ]
     },
     "metadata": {},
     "output_type": "display_data"
    },
    {
     "data": {
      "text/html": [
       "<pre style=\"white-space:pre;overflow-x:auto;line-height:normal;font-family:Menlo,'DejaVu Sans Mono',consolas,'Courier New',monospace\">First Matt, can you help us get to an appropriate gross margin and SG&amp;A run rate before \n",
       "layering in Questcor I know that???s a multifaceted question but I know you will try to be \n",
       "helpful on those moving parts?\n",
       "</pre>\n"
      ],
      "text/plain": [
       "First Matt, can you help us get to an appropriate gross margin and SG&A run rate before \n",
       "layering in Questcor I know that???s a multifaceted question but I know you will try to be \n",
       "helpful on those moving parts?\n"
      ]
     },
     "metadata": {},
     "output_type": "display_data"
    },
    {
     "data": {
      "text/html": [
       "<pre style=\"white-space:pre;overflow-x:auto;line-height:normal;font-family:Menlo,'DejaVu Sans Mono',consolas,'Courier New',monospace\">&amp;&amp;&amp;&amp;&amp;&amp;&amp;&amp;&amp;&amp;&amp;&amp;&amp;&amp;&amp;&amp;&amp;&amp;&amp;&amp;&amp;&amp;&amp;&amp;&amp;&amp;&amp;&amp;&amp;&amp;&amp;&amp;&amp;&amp;&amp;&amp;&amp;&amp;&amp;&amp;&amp;&amp;&amp;&amp;&amp;&amp;&amp;&amp;&amp;&amp;\n",
       "</pre>\n"
      ],
      "text/plain": [
       "&&&&&&&&&&&&&&&&&&&&&&&&&&&&&&&&&&&&&&&&&&&&&&&&&&\n"
      ]
     },
     "metadata": {},
     "output_type": "display_data"
    },
    {
     "data": {
      "text/html": [
       "<pre style=\"white-space:pre;overflow-x:auto;line-height:normal;font-family:Menlo,'DejaVu Sans Mono',consolas,'Courier New',monospace\">Going back to your pitch at the end of your prepared remarks about the stock price, if I were\n",
       "to kind of a devilâs advocate or think about the things that maybe would be offset to that.\n",
       "</pre>\n"
      ],
      "text/plain": [
       "Going back to your pitch at the end of your prepared remarks about the stock price, if I were\n",
       "to kind of a devilâs advocate or think about the things that maybe would be offset to that.\n"
      ]
     },
     "metadata": {},
     "output_type": "display_data"
    },
    {
     "data": {
      "text/html": [
       "<pre style=\"white-space:pre;overflow-x:auto;line-height:normal;font-family:Menlo,'DejaVu Sans Mono',consolas,'Courier New',monospace\">**************************************************\n",
       "</pre>\n"
      ],
      "text/plain": [
       "**************************************************\n"
      ]
     },
     "metadata": {},
     "output_type": "display_data"
    },
    {
     "data": {
      "text/html": [
       "<pre style=\"white-space:pre;overflow-x:auto;line-height:normal;font-family:Menlo,'DejaVu Sans Mono',consolas,'Courier New',monospace\">Going back to your pitch at the end of your prepared remarks about the stock price, if I were\n",
       "to kind of a devil???s advocate or think about the things that maybe would be offset to that.\n",
       "</pre>\n"
      ],
      "text/plain": [
       "Going back to your pitch at the end of your prepared remarks about the stock price, if I were\n",
       "to kind of a devil???s advocate or think about the things that maybe would be offset to that.\n"
      ]
     },
     "metadata": {},
     "output_type": "display_data"
    },
    {
     "data": {
      "text/html": [
       "<pre style=\"white-space:pre;overflow-x:auto;line-height:normal;font-family:Menlo,'DejaVu Sans Mono',consolas,'Courier New',monospace\">&amp;&amp;&amp;&amp;&amp;&amp;&amp;&amp;&amp;&amp;&amp;&amp;&amp;&amp;&amp;&amp;&amp;&amp;&amp;&amp;&amp;&amp;&amp;&amp;&amp;&amp;&amp;&amp;&amp;&amp;&amp;&amp;&amp;&amp;&amp;&amp;&amp;&amp;&amp;&amp;&amp;&amp;&amp;&amp;&amp;&amp;&amp;&amp;&amp;&amp;\n",
       "</pre>\n"
      ],
      "text/plain": [
       "&&&&&&&&&&&&&&&&&&&&&&&&&&&&&&&&&&&&&&&&&&&&&&&&&&\n"
      ]
     },
     "metadata": {},
     "output_type": "display_data"
    },
    {
     "data": {
      "text/html": [
       "<pre style=\"white-space:pre;overflow-x:auto;line-height:normal;font-family:Menlo,'DejaVu Sans Mono',consolas,'Courier New',monospace\">I just wanted to ask you a question about your international business since itâs starting to\n",
       "expand very meaningfully here.\n",
       "</pre>\n"
      ],
      "text/plain": [
       "I just wanted to ask you a question about your international business since itâs starting to\n",
       "expand very meaningfully here.\n"
      ]
     },
     "metadata": {},
     "output_type": "display_data"
    },
    {
     "data": {
      "text/html": [
       "<pre style=\"white-space:pre;overflow-x:auto;line-height:normal;font-family:Menlo,'DejaVu Sans Mono',consolas,'Courier New',monospace\">**************************************************\n",
       "</pre>\n"
      ],
      "text/plain": [
       "**************************************************\n"
      ]
     },
     "metadata": {},
     "output_type": "display_data"
    },
    {
     "data": {
      "text/html": [
       "<pre style=\"white-space:pre;overflow-x:auto;line-height:normal;font-family:Menlo,'DejaVu Sans Mono',consolas,'Courier New',monospace\">I just wanted to ask you a question about your international business since it???s starting \n",
       "to expand very meaningfully here.\n",
       "</pre>\n"
      ],
      "text/plain": [
       "I just wanted to ask you a question about your international business since it???s starting \n",
       "to expand very meaningfully here.\n"
      ]
     },
     "metadata": {},
     "output_type": "display_data"
    },
    {
     "data": {
      "text/html": [
       "<pre style=\"white-space:pre;overflow-x:auto;line-height:normal;font-family:Menlo,'DejaVu Sans Mono',consolas,'Courier New',monospace\">&amp;&amp;&amp;&amp;&amp;&amp;&amp;&amp;&amp;&amp;&amp;&amp;&amp;&amp;&amp;&amp;&amp;&amp;&amp;&amp;&amp;&amp;&amp;&amp;&amp;&amp;&amp;&amp;&amp;&amp;&amp;&amp;&amp;&amp;&amp;&amp;&amp;&amp;&amp;&amp;&amp;&amp;&amp;&amp;&amp;&amp;&amp;&amp;&amp;&amp;\n",
       "</pre>\n"
      ],
      "text/plain": [
       "&&&&&&&&&&&&&&&&&&&&&&&&&&&&&&&&&&&&&&&&&&&&&&&&&&\n"
      ]
     },
     "metadata": {},
     "output_type": "display_data"
    },
    {
     "data": {
      "text/html": [
       "<pre style=\"white-space:pre;overflow-x:auto;line-height:normal;font-family:Menlo,'DejaVu Sans Mono',consolas,'Courier New',monospace\">So Iâm just try to reconcile sort of the - what Iâll call little bit of a slowdown and \n",
       "realize in curve Q1 against your comments youâre going to be aggressive on rate growth as we\n",
       "get here into the peak season.\n",
       "</pre>\n"
      ],
      "text/plain": [
       "So Iâm just try to reconcile sort of the - what Iâll call little bit of a slowdown and \n",
       "realize in curve Q1 against your comments youâre going to be aggressive on rate growth as we\n",
       "get here into the peak season.\n"
      ]
     },
     "metadata": {},
     "output_type": "display_data"
    },
    {
     "data": {
      "text/html": [
       "<pre style=\"white-space:pre;overflow-x:auto;line-height:normal;font-family:Menlo,'DejaVu Sans Mono',consolas,'Courier New',monospace\">**************************************************\n",
       "</pre>\n"
      ],
      "text/plain": [
       "**************************************************\n"
      ]
     },
     "metadata": {},
     "output_type": "display_data"
    },
    {
     "data": {
      "text/html": [
       "<pre style=\"white-space:pre;overflow-x:auto;line-height:normal;font-family:Menlo,'DejaVu Sans Mono',consolas,'Courier New',monospace\">So I???m just try to reconcile sort of the - what I???ll call little bit of a slowdown and \n",
       "realize in curve Q1 against your comments you???re going to be aggressive on rate growth as \n",
       "we get here into the peak season.\n",
       "</pre>\n"
      ],
      "text/plain": [
       "So I???m just try to reconcile sort of the - what I???ll call little bit of a slowdown and \n",
       "realize in curve Q1 against your comments you???re going to be aggressive on rate growth as \n",
       "we get here into the peak season.\n"
      ]
     },
     "metadata": {},
     "output_type": "display_data"
    },
    {
     "data": {
      "text/html": [
       "<pre style=\"white-space:pre;overflow-x:auto;line-height:normal;font-family:Menlo,'DejaVu Sans Mono',consolas,'Courier New',monospace\">&amp;&amp;&amp;&amp;&amp;&amp;&amp;&amp;&amp;&amp;&amp;&amp;&amp;&amp;&amp;&amp;&amp;&amp;&amp;&amp;&amp;&amp;&amp;&amp;&amp;&amp;&amp;&amp;&amp;&amp;&amp;&amp;&amp;&amp;&amp;&amp;&amp;&amp;&amp;&amp;&amp;&amp;&amp;&amp;&amp;&amp;&amp;&amp;&amp;&amp;\n",
       "</pre>\n"
      ],
      "text/plain": [
       "&&&&&&&&&&&&&&&&&&&&&&&&&&&&&&&&&&&&&&&&&&&&&&&&&&\n"
      ]
     },
     "metadata": {},
     "output_type": "display_data"
    },
    {
     "data": {
      "text/html": [
       "<pre style=\"white-space:pre;overflow-x:auto;line-height:normal;font-family:Menlo,'DejaVu Sans Mono',consolas,'Courier New',monospace\">Thatâs very helpful.\n",
       "</pre>\n"
      ],
      "text/plain": [
       "Thatâs very helpful.\n"
      ]
     },
     "metadata": {},
     "output_type": "display_data"
    },
    {
     "data": {
      "text/html": [
       "<pre style=\"white-space:pre;overflow-x:auto;line-height:normal;font-family:Menlo,'DejaVu Sans Mono',consolas,'Courier New',monospace\">**************************************************\n",
       "</pre>\n"
      ],
      "text/plain": [
       "**************************************************\n"
      ]
     },
     "metadata": {},
     "output_type": "display_data"
    },
    {
     "data": {
      "text/html": [
       "<pre style=\"white-space:pre;overflow-x:auto;line-height:normal;font-family:Menlo,'DejaVu Sans Mono',consolas,'Courier New',monospace\">That???s very helpful.\n",
       "</pre>\n"
      ],
      "text/plain": [
       "That???s very helpful.\n"
      ]
     },
     "metadata": {},
     "output_type": "display_data"
    },
    {
     "data": {
      "text/html": [
       "<pre style=\"white-space:pre;overflow-x:auto;line-height:normal;font-family:Menlo,'DejaVu Sans Mono',consolas,'Courier New',monospace\">&amp;&amp;&amp;&amp;&amp;&amp;&amp;&amp;&amp;&amp;&amp;&amp;&amp;&amp;&amp;&amp;&amp;&amp;&amp;&amp;&amp;&amp;&amp;&amp;&amp;&amp;&amp;&amp;&amp;&amp;&amp;&amp;&amp;&amp;&amp;&amp;&amp;&amp;&amp;&amp;&amp;&amp;&amp;&amp;&amp;&amp;&amp;&amp;&amp;&amp;\n",
       "</pre>\n"
      ],
      "text/plain": [
       "&&&&&&&&&&&&&&&&&&&&&&&&&&&&&&&&&&&&&&&&&&&&&&&&&&\n"
      ]
     },
     "metadata": {},
     "output_type": "display_data"
    },
    {
     "data": {
      "text/html": [
       "<pre style=\"white-space:pre;overflow-x:auto;line-height:normal;font-family:Menlo,'DejaVu Sans Mono',consolas,'Courier New',monospace\">Youâve been very focused on in this three-prong strategy.\n",
       "</pre>\n"
      ],
      "text/plain": [
       "Youâve been very focused on in this three-prong strategy.\n"
      ]
     },
     "metadata": {},
     "output_type": "display_data"
    },
    {
     "data": {
      "text/html": [
       "<pre style=\"white-space:pre;overflow-x:auto;line-height:normal;font-family:Menlo,'DejaVu Sans Mono',consolas,'Courier New',monospace\">**************************************************\n",
       "</pre>\n"
      ],
      "text/plain": [
       "**************************************************\n"
      ]
     },
     "metadata": {},
     "output_type": "display_data"
    },
    {
     "data": {
      "text/html": [
       "<pre style=\"white-space:pre;overflow-x:auto;line-height:normal;font-family:Menlo,'DejaVu Sans Mono',consolas,'Courier New',monospace\">You???ve been very focused on in this three-prong strategy.\n",
       "</pre>\n"
      ],
      "text/plain": [
       "You???ve been very focused on in this three-prong strategy.\n"
      ]
     },
     "metadata": {},
     "output_type": "display_data"
    },
    {
     "data": {
      "text/html": [
       "<pre style=\"white-space:pre;overflow-x:auto;line-height:normal;font-family:Menlo,'DejaVu Sans Mono',consolas,'Courier New',monospace\">&amp;&amp;&amp;&amp;&amp;&amp;&amp;&amp;&amp;&amp;&amp;&amp;&amp;&amp;&amp;&amp;&amp;&amp;&amp;&amp;&amp;&amp;&amp;&amp;&amp;&amp;&amp;&amp;&amp;&amp;&amp;&amp;&amp;&amp;&amp;&amp;&amp;&amp;&amp;&amp;&amp;&amp;&amp;&amp;&amp;&amp;&amp;&amp;&amp;&amp;\n",
       "</pre>\n"
      ],
      "text/plain": [
       "&&&&&&&&&&&&&&&&&&&&&&&&&&&&&&&&&&&&&&&&&&&&&&&&&&\n"
      ]
     },
     "metadata": {},
     "output_type": "display_data"
    },
    {
     "data": {
      "text/html": [
       "<pre style=\"white-space:pre;overflow-x:auto;line-height:normal;font-family:Menlo,'DejaVu Sans Mono',consolas,'Courier New',monospace\">So itâs kind of all-in, what do you think the impact was to your EPS both before and after \n",
       "unusable items?\n",
       "</pre>\n"
      ],
      "text/plain": [
       "So itâs kind of all-in, what do you think the impact was to your EPS both before and after \n",
       "unusable items?\n"
      ]
     },
     "metadata": {},
     "output_type": "display_data"
    },
    {
     "data": {
      "text/html": [
       "<pre style=\"white-space:pre;overflow-x:auto;line-height:normal;font-family:Menlo,'DejaVu Sans Mono',consolas,'Courier New',monospace\">**************************************************\n",
       "</pre>\n"
      ],
      "text/plain": [
       "**************************************************\n"
      ]
     },
     "metadata": {},
     "output_type": "display_data"
    },
    {
     "data": {
      "text/html": [
       "<pre style=\"white-space:pre;overflow-x:auto;line-height:normal;font-family:Menlo,'DejaVu Sans Mono',consolas,'Courier New',monospace\">So it???s kind of all-in, what do you think the impact was to your EPS both before and after \n",
       "unusable items?\n",
       "</pre>\n"
      ],
      "text/plain": [
       "So it???s kind of all-in, what do you think the impact was to your EPS both before and after \n",
       "unusable items?\n"
      ]
     },
     "metadata": {},
     "output_type": "display_data"
    },
    {
     "data": {
      "text/html": [
       "<pre style=\"white-space:pre;overflow-x:auto;line-height:normal;font-family:Menlo,'DejaVu Sans Mono',consolas,'Courier New',monospace\">&amp;&amp;&amp;&amp;&amp;&amp;&amp;&amp;&amp;&amp;&amp;&amp;&amp;&amp;&amp;&amp;&amp;&amp;&amp;&amp;&amp;&amp;&amp;&amp;&amp;&amp;&amp;&amp;&amp;&amp;&amp;&amp;&amp;&amp;&amp;&amp;&amp;&amp;&amp;&amp;&amp;&amp;&amp;&amp;&amp;&amp;&amp;&amp;&amp;&amp;\n",
       "</pre>\n"
      ],
      "text/plain": [
       "&&&&&&&&&&&&&&&&&&&&&&&&&&&&&&&&&&&&&&&&&&&&&&&&&&\n"
      ]
     },
     "metadata": {},
     "output_type": "display_data"
    },
    {
     "data": {
      "text/html": [
       "<pre style=\"white-space:pre;overflow-x:auto;line-height:normal;font-family:Menlo,'DejaVu Sans Mono',consolas,'Courier New',monospace\">In light of some of the strength youâre seeing, I guess where is the big offset thatâs \n",
       "causing velocity to decline so rapidly?\n",
       "</pre>\n"
      ],
      "text/plain": [
       "In light of some of the strength youâre seeing, I guess where is the big offset thatâs \n",
       "causing velocity to decline so rapidly?\n"
      ]
     },
     "metadata": {},
     "output_type": "display_data"
    },
    {
     "data": {
      "text/html": [
       "<pre style=\"white-space:pre;overflow-x:auto;line-height:normal;font-family:Menlo,'DejaVu Sans Mono',consolas,'Courier New',monospace\">**************************************************\n",
       "</pre>\n"
      ],
      "text/plain": [
       "**************************************************\n"
      ]
     },
     "metadata": {},
     "output_type": "display_data"
    },
    {
     "data": {
      "text/html": [
       "<pre style=\"white-space:pre;overflow-x:auto;line-height:normal;font-family:Menlo,'DejaVu Sans Mono',consolas,'Courier New',monospace\">In light of some of the strength you???re seeing, I guess where is the big offset that???s \n",
       "causing velocity to decline so rapidly?\n",
       "</pre>\n"
      ],
      "text/plain": [
       "In light of some of the strength you???re seeing, I guess where is the big offset that???s \n",
       "causing velocity to decline so rapidly?\n"
      ]
     },
     "metadata": {},
     "output_type": "display_data"
    },
    {
     "data": {
      "text/html": [
       "<pre style=\"white-space:pre;overflow-x:auto;line-height:normal;font-family:Menlo,'DejaVu Sans Mono',consolas,'Courier New',monospace\">&amp;&amp;&amp;&amp;&amp;&amp;&amp;&amp;&amp;&amp;&amp;&amp;&amp;&amp;&amp;&amp;&amp;&amp;&amp;&amp;&amp;&amp;&amp;&amp;&amp;&amp;&amp;&amp;&amp;&amp;&amp;&amp;&amp;&amp;&amp;&amp;&amp;&amp;&amp;&amp;&amp;&amp;&amp;&amp;&amp;&amp;&amp;&amp;&amp;&amp;\n",
       "</pre>\n"
      ],
      "text/plain": [
       "&&&&&&&&&&&&&&&&&&&&&&&&&&&&&&&&&&&&&&&&&&&&&&&&&&\n"
      ]
     },
     "metadata": {},
     "output_type": "display_data"
    },
    {
     "data": {
      "text/html": [
       "<pre style=\"white-space:pre;overflow-x:auto;line-height:normal;font-family:Menlo,'DejaVu Sans Mono',consolas,'Courier New',monospace\">It sound like you might be having a bit of a trouble on your end, as well just given the \n",
       "reports that arenât being provided at this point in time?\n",
       "</pre>\n"
      ],
      "text/plain": [
       "It sound like you might be having a bit of a trouble on your end, as well just given the \n",
       "reports that arenât being provided at this point in time?\n"
      ]
     },
     "metadata": {},
     "output_type": "display_data"
    },
    {
     "data": {
      "text/html": [
       "<pre style=\"white-space:pre;overflow-x:auto;line-height:normal;font-family:Menlo,'DejaVu Sans Mono',consolas,'Courier New',monospace\">**************************************************\n",
       "</pre>\n"
      ],
      "text/plain": [
       "**************************************************\n"
      ]
     },
     "metadata": {},
     "output_type": "display_data"
    },
    {
     "data": {
      "text/html": [
       "<pre style=\"white-space:pre;overflow-x:auto;line-height:normal;font-family:Menlo,'DejaVu Sans Mono',consolas,'Courier New',monospace\">It sound like you might be having a bit of a trouble on your end, as well just given the \n",
       "reports that aren???t being provided at this point in time?\n",
       "</pre>\n"
      ],
      "text/plain": [
       "It sound like you might be having a bit of a trouble on your end, as well just given the \n",
       "reports that aren???t being provided at this point in time?\n"
      ]
     },
     "metadata": {},
     "output_type": "display_data"
    },
    {
     "data": {
      "text/html": [
       "<pre style=\"white-space:pre;overflow-x:auto;line-height:normal;font-family:Menlo,'DejaVu Sans Mono',consolas,'Courier New',monospace\">&amp;&amp;&amp;&amp;&amp;&amp;&amp;&amp;&amp;&amp;&amp;&amp;&amp;&amp;&amp;&amp;&amp;&amp;&amp;&amp;&amp;&amp;&amp;&amp;&amp;&amp;&amp;&amp;&amp;&amp;&amp;&amp;&amp;&amp;&amp;&amp;&amp;&amp;&amp;&amp;&amp;&amp;&amp;&amp;&amp;&amp;&amp;&amp;&amp;&amp;\n",
       "</pre>\n"
      ],
      "text/plain": [
       "&&&&&&&&&&&&&&&&&&&&&&&&&&&&&&&&&&&&&&&&&&&&&&&&&&\n"
      ]
     },
     "metadata": {},
     "output_type": "display_data"
    },
    {
     "data": {
      "text/html": [
       "<pre style=\"white-space:pre;overflow-x:auto;line-height:normal;font-family:Menlo,'DejaVu Sans Mono',consolas,'Courier New',monospace\">Iâm not sure what data you can give.\n",
       "</pre>\n"
      ],
      "text/plain": [
       "Iâm not sure what data you can give.\n"
      ]
     },
     "metadata": {},
     "output_type": "display_data"
    },
    {
     "data": {
      "text/html": [
       "<pre style=\"white-space:pre;overflow-x:auto;line-height:normal;font-family:Menlo,'DejaVu Sans Mono',consolas,'Courier New',monospace\">**************************************************\n",
       "</pre>\n"
      ],
      "text/plain": [
       "**************************************************\n"
      ]
     },
     "metadata": {},
     "output_type": "display_data"
    },
    {
     "data": {
      "text/html": [
       "<pre style=\"white-space:pre;overflow-x:auto;line-height:normal;font-family:Menlo,'DejaVu Sans Mono',consolas,'Courier New',monospace\">I???m not sure what data you can give.\n",
       "</pre>\n"
      ],
      "text/plain": [
       "I???m not sure what data you can give.\n"
      ]
     },
     "metadata": {},
     "output_type": "display_data"
    },
    {
     "data": {
      "text/html": [
       "<pre style=\"white-space:pre;overflow-x:auto;line-height:normal;font-family:Menlo,'DejaVu Sans Mono',consolas,'Courier New',monospace\">&amp;&amp;&amp;&amp;&amp;&amp;&amp;&amp;&amp;&amp;&amp;&amp;&amp;&amp;&amp;&amp;&amp;&amp;&amp;&amp;&amp;&amp;&amp;&amp;&amp;&amp;&amp;&amp;&amp;&amp;&amp;&amp;&amp;&amp;&amp;&amp;&amp;&amp;&amp;&amp;&amp;&amp;&amp;&amp;&amp;&amp;&amp;&amp;&amp;&amp;\n",
       "</pre>\n"
      ],
      "text/plain": [
       "&&&&&&&&&&&&&&&&&&&&&&&&&&&&&&&&&&&&&&&&&&&&&&&&&&\n"
      ]
     },
     "metadata": {},
     "output_type": "display_data"
    },
    {
     "data": {
      "text/html": [
       "<pre style=\"white-space:pre;overflow-x:auto;line-height:normal;font-family:Menlo,'DejaVu Sans Mono',consolas,'Courier New',monospace\">I realize the focus on metallurgy is important during this transition zone phase but given \n",
       "the tonnage and grade guidance you guys gave us this quarter, the implied recoveries that Iâm\n",
       "calculating, seem to be low -- kind of in the low to mid <span style=\"color: #008080; text-decoration-color: #008080; font-weight: bold\">60</span>% range.\n",
       "</pre>\n"
      ],
      "text/plain": [
       "I realize the focus on metallurgy is important during this transition zone phase but given \n",
       "the tonnage and grade guidance you guys gave us this quarter, the implied recoveries that Iâm\n",
       "calculating, seem to be low -- kind of in the low to mid \u001b[1;36m60\u001b[0m% range.\n"
      ]
     },
     "metadata": {},
     "output_type": "display_data"
    },
    {
     "data": {
      "text/html": [
       "<pre style=\"white-space:pre;overflow-x:auto;line-height:normal;font-family:Menlo,'DejaVu Sans Mono',consolas,'Courier New',monospace\">**************************************************\n",
       "</pre>\n"
      ],
      "text/plain": [
       "**************************************************\n"
      ]
     },
     "metadata": {},
     "output_type": "display_data"
    },
    {
     "data": {
      "text/html": [
       "<pre style=\"white-space:pre;overflow-x:auto;line-height:normal;font-family:Menlo,'DejaVu Sans Mono',consolas,'Courier New',monospace\">I realize the focus on metallurgy is important during this transition zone phase but given \n",
       "the tonnage and grade guidance you guys gave us this quarter, the implied recoveries that \n",
       "I???m calculating, seem to be low -- kind of in the low to mid <span style=\"color: #008080; text-decoration-color: #008080; font-weight: bold\">60</span>% range.\n",
       "</pre>\n"
      ],
      "text/plain": [
       "I realize the focus on metallurgy is important during this transition zone phase but given \n",
       "the tonnage and grade guidance you guys gave us this quarter, the implied recoveries that \n",
       "I???m calculating, seem to be low -- kind of in the low to mid \u001b[1;36m60\u001b[0m% range.\n"
      ]
     },
     "metadata": {},
     "output_type": "display_data"
    },
    {
     "data": {
      "text/html": [
       "<pre style=\"white-space:pre;overflow-x:auto;line-height:normal;font-family:Menlo,'DejaVu Sans Mono',consolas,'Courier New',monospace\">&amp;&amp;&amp;&amp;&amp;&amp;&amp;&amp;&amp;&amp;&amp;&amp;&amp;&amp;&amp;&amp;&amp;&amp;&amp;&amp;&amp;&amp;&amp;&amp;&amp;&amp;&amp;&amp;&amp;&amp;&amp;&amp;&amp;&amp;&amp;&amp;&amp;&amp;&amp;&amp;&amp;&amp;&amp;&amp;&amp;&amp;&amp;&amp;&amp;&amp;\n",
       "</pre>\n"
      ],
      "text/plain": [
       "&&&&&&&&&&&&&&&&&&&&&&&&&&&&&&&&&&&&&&&&&&&&&&&&&&\n"
      ]
     },
     "metadata": {},
     "output_type": "display_data"
    },
    {
     "data": {
      "text/html": [
       "<pre style=\"white-space:pre;overflow-x:auto;line-height:normal;font-family:Menlo,'DejaVu Sans Mono',consolas,'Courier New',monospace\">Yes, itâs a two-part question.\n",
       "</pre>\n"
      ],
      "text/plain": [
       "Yes, itâs a two-part question.\n"
      ]
     },
     "metadata": {},
     "output_type": "display_data"
    },
    {
     "data": {
      "text/html": [
       "<pre style=\"white-space:pre;overflow-x:auto;line-height:normal;font-family:Menlo,'DejaVu Sans Mono',consolas,'Courier New',monospace\">**************************************************\n",
       "</pre>\n"
      ],
      "text/plain": [
       "**************************************************\n"
      ]
     },
     "metadata": {},
     "output_type": "display_data"
    },
    {
     "data": {
      "text/html": [
       "<pre style=\"white-space:pre;overflow-x:auto;line-height:normal;font-family:Menlo,'DejaVu Sans Mono',consolas,'Courier New',monospace\">Yes, it???s a two-part question.\n",
       "</pre>\n"
      ],
      "text/plain": [
       "Yes, it???s a two-part question.\n"
      ]
     },
     "metadata": {},
     "output_type": "display_data"
    },
    {
     "data": {
      "text/html": [
       "<pre style=\"white-space:pre;overflow-x:auto;line-height:normal;font-family:Menlo,'DejaVu Sans Mono',consolas,'Courier New',monospace\">&amp;&amp;&amp;&amp;&amp;&amp;&amp;&amp;&amp;&amp;&amp;&amp;&amp;&amp;&amp;&amp;&amp;&amp;&amp;&amp;&amp;&amp;&amp;&amp;&amp;&amp;&amp;&amp;&amp;&amp;&amp;&amp;&amp;&amp;&amp;&amp;&amp;&amp;&amp;&amp;&amp;&amp;&amp;&amp;&amp;&amp;&amp;&amp;&amp;&amp;\n",
       "</pre>\n"
      ],
      "text/plain": [
       "&&&&&&&&&&&&&&&&&&&&&&&&&&&&&&&&&&&&&&&&&&&&&&&&&&\n"
      ]
     },
     "metadata": {},
     "output_type": "display_data"
    },
    {
     "data": {
      "text/html": [
       "<pre style=\"white-space:pre;overflow-x:auto;line-height:normal;font-family:Menlo,'DejaVu Sans Mono',consolas,'Courier New',monospace\">So, if you hadnât refinanced and therefore if you included the $<span style=\"color: #008080; text-decoration-color: #008080; font-weight: bold\">3.7</span> million of fees what \n",
       "would the revised earnings guidance look like?\n",
       "</pre>\n"
      ],
      "text/plain": [
       "So, if you hadnât refinanced and therefore if you included the $\u001b[1;36m3.7\u001b[0m million of fees what \n",
       "would the revised earnings guidance look like?\n"
      ]
     },
     "metadata": {},
     "output_type": "display_data"
    },
    {
     "data": {
      "text/html": [
       "<pre style=\"white-space:pre;overflow-x:auto;line-height:normal;font-family:Menlo,'DejaVu Sans Mono',consolas,'Courier New',monospace\">**************************************************\n",
       "</pre>\n"
      ],
      "text/plain": [
       "**************************************************\n"
      ]
     },
     "metadata": {},
     "output_type": "display_data"
    },
    {
     "data": {
      "text/html": [
       "<pre style=\"white-space:pre;overflow-x:auto;line-height:normal;font-family:Menlo,'DejaVu Sans Mono',consolas,'Courier New',monospace\">So, if you hadn???t refinanced and therefore if you included the $<span style=\"color: #008080; text-decoration-color: #008080; font-weight: bold\">3.7</span> million of fees what \n",
       "would the revised earnings guidance look like?\n",
       "</pre>\n"
      ],
      "text/plain": [
       "So, if you hadn???t refinanced and therefore if you included the $\u001b[1;36m3.7\u001b[0m million of fees what \n",
       "would the revised earnings guidance look like?\n"
      ]
     },
     "metadata": {},
     "output_type": "display_data"
    },
    {
     "data": {
      "text/html": [
       "<pre style=\"white-space:pre;overflow-x:auto;line-height:normal;font-family:Menlo,'DejaVu Sans Mono',consolas,'Courier New',monospace\">&amp;&amp;&amp;&amp;&amp;&amp;&amp;&amp;&amp;&amp;&amp;&amp;&amp;&amp;&amp;&amp;&amp;&amp;&amp;&amp;&amp;&amp;&amp;&amp;&amp;&amp;&amp;&amp;&amp;&amp;&amp;&amp;&amp;&amp;&amp;&amp;&amp;&amp;&amp;&amp;&amp;&amp;&amp;&amp;&amp;&amp;&amp;&amp;&amp;&amp;\n",
       "</pre>\n"
      ],
      "text/plain": [
       "&&&&&&&&&&&&&&&&&&&&&&&&&&&&&&&&&&&&&&&&&&&&&&&&&&\n"
      ]
     },
     "metadata": {},
     "output_type": "display_data"
    },
    {
     "data": {
      "text/html": [
       "<pre style=\"white-space:pre;overflow-x:auto;line-height:normal;font-family:Menlo,'DejaVu Sans Mono',consolas,'Courier New',monospace\">Itâs definitely an exciting initiative for you.\n",
       "</pre>\n"
      ],
      "text/plain": [
       "Itâs definitely an exciting initiative for you.\n"
      ]
     },
     "metadata": {},
     "output_type": "display_data"
    },
    {
     "data": {
      "text/html": [
       "<pre style=\"white-space:pre;overflow-x:auto;line-height:normal;font-family:Menlo,'DejaVu Sans Mono',consolas,'Courier New',monospace\">**************************************************\n",
       "</pre>\n"
      ],
      "text/plain": [
       "**************************************************\n"
      ]
     },
     "metadata": {},
     "output_type": "display_data"
    },
    {
     "data": {
      "text/html": [
       "<pre style=\"white-space:pre;overflow-x:auto;line-height:normal;font-family:Menlo,'DejaVu Sans Mono',consolas,'Courier New',monospace\">It???s definitely an exciting initiative for you.\n",
       "</pre>\n"
      ],
      "text/plain": [
       "It???s definitely an exciting initiative for you.\n"
      ]
     },
     "metadata": {},
     "output_type": "display_data"
    },
    {
     "data": {
      "text/html": [
       "<pre style=\"white-space:pre;overflow-x:auto;line-height:normal;font-family:Menlo,'DejaVu Sans Mono',consolas,'Courier New',monospace\">&amp;&amp;&amp;&amp;&amp;&amp;&amp;&amp;&amp;&amp;&amp;&amp;&amp;&amp;&amp;&amp;&amp;&amp;&amp;&amp;&amp;&amp;&amp;&amp;&amp;&amp;&amp;&amp;&amp;&amp;&amp;&amp;&amp;&amp;&amp;&amp;&amp;&amp;&amp;&amp;&amp;&amp;&amp;&amp;&amp;&amp;&amp;&amp;&amp;&amp;\n",
       "</pre>\n"
      ],
      "text/plain": [
       "&&&&&&&&&&&&&&&&&&&&&&&&&&&&&&&&&&&&&&&&&&&&&&&&&&\n"
      ]
     },
     "metadata": {},
     "output_type": "display_data"
    },
    {
     "data": {
      "text/html": [
       "<pre style=\"white-space:pre;overflow-x:auto;line-height:normal;font-family:Menlo,'DejaVu Sans Mono',consolas,'Courier New',monospace\">So could you clarify whether is it that the category weâre seeing negative mix because of the\n",
       "price increases or actual volumes have slowdown?\n",
       "</pre>\n"
      ],
      "text/plain": [
       "So could you clarify whether is it that the category weâre seeing negative mix because of the\n",
       "price increases or actual volumes have slowdown?\n"
      ]
     },
     "metadata": {},
     "output_type": "display_data"
    },
    {
     "data": {
      "text/html": [
       "<pre style=\"white-space:pre;overflow-x:auto;line-height:normal;font-family:Menlo,'DejaVu Sans Mono',consolas,'Courier New',monospace\">**************************************************\n",
       "</pre>\n"
      ],
      "text/plain": [
       "**************************************************\n"
      ]
     },
     "metadata": {},
     "output_type": "display_data"
    },
    {
     "data": {
      "text/html": [
       "<pre style=\"white-space:pre;overflow-x:auto;line-height:normal;font-family:Menlo,'DejaVu Sans Mono',consolas,'Courier New',monospace\">So could you clarify whether is it that the category we???re seeing negative mix because of \n",
       "the price increases or actual volumes have slowdown?\n",
       "</pre>\n"
      ],
      "text/plain": [
       "So could you clarify whether is it that the category we???re seeing negative mix because of \n",
       "the price increases or actual volumes have slowdown?\n"
      ]
     },
     "metadata": {},
     "output_type": "display_data"
    },
    {
     "data": {
      "text/html": [
       "<pre style=\"white-space:pre;overflow-x:auto;line-height:normal;font-family:Menlo,'DejaVu Sans Mono',consolas,'Courier New',monospace\">&amp;&amp;&amp;&amp;&amp;&amp;&amp;&amp;&amp;&amp;&amp;&amp;&amp;&amp;&amp;&amp;&amp;&amp;&amp;&amp;&amp;&amp;&amp;&amp;&amp;&amp;&amp;&amp;&amp;&amp;&amp;&amp;&amp;&amp;&amp;&amp;&amp;&amp;&amp;&amp;&amp;&amp;&amp;&amp;&amp;&amp;&amp;&amp;&amp;&amp;\n",
       "</pre>\n"
      ],
      "text/plain": [
       "&&&&&&&&&&&&&&&&&&&&&&&&&&&&&&&&&&&&&&&&&&&&&&&&&&\n"
      ]
     },
     "metadata": {},
     "output_type": "display_data"
    }
   ],
   "source": [
    "for i in np.where(~(df_nina['text'] == df_michael['text']))[0]:\n",
    "    print(df_michael.iloc[i]['text'])\n",
    "    print('*' * 50)\n",
    "    print(df_nina.iloc[i]['text'])\n",
    "    print('&' * 50)"
   ]
  },
  {
   "cell_type": "code",
   "execution_count": 10,
   "metadata": {},
   "outputs": [
    {
     "data": {
      "text/plain": [
       "True"
      ]
     },
     "execution_count": 10,
     "metadata": {},
     "output_type": "execute_result"
    }
   ],
   "source": [
    "np.all(df_michael['rid'] == df_nina['rid'])"
   ]
  },
  {
   "cell_type": "markdown",
   "metadata": {},
   "source": [
    "### Merge df:"
   ]
  },
  {
   "cell_type": "code",
   "execution_count": 11,
   "metadata": {},
   "outputs": [
    {
     "data": {
      "text/html": [
       "<div>\n",
       "<style scoped>\n",
       "    .dataframe tbody tr th:only-of-type {\n",
       "        vertical-align: middle;\n",
       "    }\n",
       "\n",
       "    .dataframe tbody tr th {\n",
       "        vertical-align: top;\n",
       "    }\n",
       "\n",
       "    .dataframe thead th {\n",
       "        text-align: right;\n",
       "    }\n",
       "</style>\n",
       "<table border=\"1\" class=\"dataframe\">\n",
       "  <thead>\n",
       "    <tr style=\"text-align: right;\">\n",
       "      <th></th>\n",
       "      <th>rid</th>\n",
       "      <th>text</th>\n",
       "      <th>label_michael</th>\n",
       "      <th>label_nina</th>\n",
       "    </tr>\n",
       "  </thead>\n",
       "  <tbody>\n",
       "    <tr>\n",
       "      <th>0</th>\n",
       "      <td>389277</td>\n",
       "      <td>Does it require you to change the types of req...</td>\n",
       "      <td>0</td>\n",
       "      <td>1.0</td>\n",
       "    </tr>\n",
       "    <tr>\n",
       "      <th>1</th>\n",
       "      <td>13981</td>\n",
       "      <td>So obviously I think the guidance is anything ...</td>\n",
       "      <td>0</td>\n",
       "      <td>0.0</td>\n",
       "    </tr>\n",
       "    <tr>\n",
       "      <th>2</th>\n",
       "      <td>723606</td>\n",
       "      <td>And is your sense that they will get to a poin...</td>\n",
       "      <td>0</td>\n",
       "      <td>0.0</td>\n",
       "    </tr>\n",
       "    <tr>\n",
       "      <th>3</th>\n",
       "      <td>886290</td>\n",
       "      <td>Was that a competitive deal, and if it was, we...</td>\n",
       "      <td>1</td>\n",
       "      <td>0.0</td>\n",
       "    </tr>\n",
       "    <tr>\n",
       "      <th>4</th>\n",
       "      <td>234259</td>\n",
       "      <td>So with the World Cup, think you said that ARP...</td>\n",
       "      <td>0</td>\n",
       "      <td>0.0</td>\n",
       "    </tr>\n",
       "    <tr>\n",
       "      <th>...</th>\n",
       "      <td>...</td>\n",
       "      <td>...</td>\n",
       "      <td>...</td>\n",
       "      <td>...</td>\n",
       "    </tr>\n",
       "    <tr>\n",
       "      <th>195</th>\n",
       "      <td>1219012</td>\n",
       "      <td>So could you clarify whether is it that the ca...</td>\n",
       "      <td>1</td>\n",
       "      <td>1.0</td>\n",
       "    </tr>\n",
       "    <tr>\n",
       "      <th>196</th>\n",
       "      <td>1162044</td>\n",
       "      <td>If you look at the remainder of the year, Bill...</td>\n",
       "      <td>1</td>\n",
       "      <td>1.0</td>\n",
       "    </tr>\n",
       "    <tr>\n",
       "      <th>197</th>\n",
       "      <td>912400</td>\n",
       "      <td>In your Consumer Brands business, did the Vals...</td>\n",
       "      <td>0</td>\n",
       "      <td>0.0</td>\n",
       "    </tr>\n",
       "    <tr>\n",
       "      <th>198</th>\n",
       "      <td>778112</td>\n",
       "      <td>Just to clarify, the $15 million combined betw...</td>\n",
       "      <td>0</td>\n",
       "      <td>0.0</td>\n",
       "    </tr>\n",
       "    <tr>\n",
       "      <th>199</th>\n",
       "      <td>960031</td>\n",
       "      <td>Very good.</td>\n",
       "      <td>0</td>\n",
       "      <td>0.0</td>\n",
       "    </tr>\n",
       "  </tbody>\n",
       "</table>\n",
       "<p>200 rows × 4 columns</p>\n",
       "</div>"
      ],
      "text/plain": [
       "         rid                                               text  \\\n",
       "0     389277  Does it require you to change the types of req...   \n",
       "1      13981  So obviously I think the guidance is anything ...   \n",
       "2     723606  And is your sense that they will get to a poin...   \n",
       "3     886290  Was that a competitive deal, and if it was, we...   \n",
       "4     234259  So with the World Cup, think you said that ARP...   \n",
       "..       ...                                                ...   \n",
       "195  1219012  So could you clarify whether is it that the ca...   \n",
       "196  1162044  If you look at the remainder of the year, Bill...   \n",
       "197   912400  In your Consumer Brands business, did the Vals...   \n",
       "198   778112  Just to clarify, the $15 million combined betw...   \n",
       "199   960031                                         Very good.   \n",
       "\n",
       "     label_michael  label_nina  \n",
       "0                0         1.0  \n",
       "1                0         0.0  \n",
       "2                0         0.0  \n",
       "3                1         0.0  \n",
       "4                0         0.0  \n",
       "..             ...         ...  \n",
       "195              1         1.0  \n",
       "196              1         1.0  \n",
       "197              0         0.0  \n",
       "198              0         0.0  \n",
       "199              0         0.0  \n",
       "\n",
       "[200 rows x 4 columns]"
      ]
     },
     "execution_count": 11,
     "metadata": {},
     "output_type": "execute_result"
    }
   ],
   "source": [
    "merge_df = pd.merge(df_michael[['rid', 'text', 'label']], df_nina[['rid', 'label']], on='rid', suffixes=('_michael', '_nina'))\n",
    "merge_df"
   ]
  },
  {
   "cell_type": "markdown",
   "metadata": {},
   "source": [
    "### Kappa score:"
   ]
  },
  {
   "cell_type": "code",
   "execution_count": 12,
   "metadata": {},
   "outputs": [
    {
     "data": {
      "text/html": [
       "<pre style=\"white-space:pre;overflow-x:auto;line-height:normal;font-family:Menlo,'DejaVu Sans Mono',consolas,'Courier New',monospace\"><span style=\"color: #008080; text-decoration-color: #008080; font-weight: bold\">0.37247394171452874</span>\n",
       "</pre>\n"
      ],
      "text/plain": [
       "\u001b[1;36m0.37247394171452874\u001b[0m\n"
      ]
     },
     "metadata": {},
     "output_type": "display_data"
    }
   ],
   "source": [
    "kapp_score = cohen_kappa_score(merge_df['label_michael'], merge_df['label_nina'])\n",
    "print(kapp_score)"
   ]
  },
  {
   "cell_type": "markdown",
   "metadata": {},
   "source": [
    "### Confusion Matrix:"
   ]
  },
  {
   "cell_type": "code",
   "execution_count": 13,
   "metadata": {},
   "outputs": [
    {
     "data": {
      "image/png": "[encoded data removed]",
      "text/plain": [
       "<Figure size 432x288 with 2 Axes>"
      ]
     },
     "metadata": {
      "needs_background": "light"
     },
     "output_type": "display_data"
    }
   ],
   "source": [
    "cm = confusion_matrix(merge_df['label_michael'], merge_df['label_nina'])\n",
    "ax= plt.subplot()\n",
    "sns.heatmap(cm, annot=True, fmt='g', ax=ax)  #annot=True to annotate cells, ftm='g' to disable scientific notation\n",
    "\n",
    "# labels, title and ticks\n",
    "plt.title(f'Kappa Score: {kapp_score}')\n",
    "ax.set_xlabel('Nina')\n",
    "ax.set_ylabel('Michael')\n",
    "plt.savefig(os.path.join(result_path, 'week2', 'michael&nina.png'), dpi=500)"
   ]
  },
  {
   "cell_type": "code",
   "execution_count": null,
   "metadata": {},
   "outputs": [],
   "source": []
  }
 ],
 "metadata": {
  "interpreter": {
   "hash": "32bd2530b5fe2a858d4816484b46f5166b9e55669cb4790c37fc2d0b69df523b"
  },
  "kernelspec": {
   "display_name": "Python 3.9.7 ('base')",
   "language": "python",
   "name": "python3"
  },
  "language_info": {
   "codemirror_mode": {
    "name": "ipython",
    "version": 3
   },
   "file_extension": ".py",
   "mimetype": "text/x-python",
   "name": "python",
   "nbconvert_exporter": "python",
   "pygments_lexer": "ipython3",
   "version": "3.9.7"
  },
  "orig_nbformat": 4
 },
 "nbformat": 4,
 "nbformat_minor": 2
}
